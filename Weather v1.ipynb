{
 "cells": [
  {
   "cell_type": "code",
   "execution_count": 1,
   "metadata": {},
   "outputs": [],
   "source": [
    "import pandas as pd\n",
    "import numpy as np\n",
    "import seaborn as sns\n",
    "sns.set(rc={'figure.figsize':(11.7,8.27)})\n",
    "import matplotlib.pyplot as plt"
   ]
  },
  {
   "cell_type": "code",
   "execution_count": 2,
   "metadata": {},
   "outputs": [],
   "source": [
    "df=pd.read_csv(\"weatherHistory.csv\", na_filter=False, na_values=\"\")"
   ]
  },
  {
   "cell_type": "code",
   "execution_count": 3,
   "metadata": {},
   "outputs": [
    {
     "data": {
      "text/html": [
       "<div>\n",
       "<style scoped>\n",
       "    .dataframe tbody tr th:only-of-type {\n",
       "        vertical-align: middle;\n",
       "    }\n",
       "\n",
       "    .dataframe tbody tr th {\n",
       "        vertical-align: top;\n",
       "    }\n",
       "\n",
       "    .dataframe thead th {\n",
       "        text-align: right;\n",
       "    }\n",
       "</style>\n",
       "<table border=\"1\" class=\"dataframe\">\n",
       "  <thead>\n",
       "    <tr style=\"text-align: right;\">\n",
       "      <th></th>\n",
       "      <th>Formatted Date</th>\n",
       "      <th>Summary</th>\n",
       "      <th>Precip Type</th>\n",
       "      <th>Temperature (C)</th>\n",
       "      <th>Apparent Temperature (C)</th>\n",
       "      <th>Humidity</th>\n",
       "      <th>Wind Speed (km/h)</th>\n",
       "      <th>Wind Bearing (degrees)</th>\n",
       "      <th>Visibility (km)</th>\n",
       "      <th>Loud Cover</th>\n",
       "      <th>Pressure (millibars)</th>\n",
       "      <th>Daily Summary</th>\n",
       "    </tr>\n",
       "  </thead>\n",
       "  <tbody>\n",
       "    <tr>\n",
       "      <td>0</td>\n",
       "      <td>2006-04-01 00:00:00.000 +0200</td>\n",
       "      <td>Partly Cloudy</td>\n",
       "      <td>rain</td>\n",
       "      <td>9.472222</td>\n",
       "      <td>7.388889</td>\n",
       "      <td>0.89</td>\n",
       "      <td>14.1197</td>\n",
       "      <td>251.0</td>\n",
       "      <td>15.8263</td>\n",
       "      <td>0.0</td>\n",
       "      <td>1015.13</td>\n",
       "      <td>Partly cloudy throughout the day.</td>\n",
       "    </tr>\n",
       "    <tr>\n",
       "      <td>1</td>\n",
       "      <td>2006-04-01 01:00:00.000 +0200</td>\n",
       "      <td>Partly Cloudy</td>\n",
       "      <td>rain</td>\n",
       "      <td>9.355556</td>\n",
       "      <td>7.227778</td>\n",
       "      <td>0.86</td>\n",
       "      <td>14.2646</td>\n",
       "      <td>259.0</td>\n",
       "      <td>15.8263</td>\n",
       "      <td>0.0</td>\n",
       "      <td>1015.63</td>\n",
       "      <td>Partly cloudy throughout the day.</td>\n",
       "    </tr>\n",
       "  </tbody>\n",
       "</table>\n",
       "</div>"
      ],
      "text/plain": [
       "                  Formatted Date        Summary Precip Type  Temperature (C)  \\\n",
       "0  2006-04-01 00:00:00.000 +0200  Partly Cloudy        rain         9.472222   \n",
       "1  2006-04-01 01:00:00.000 +0200  Partly Cloudy        rain         9.355556   \n",
       "\n",
       "   Apparent Temperature (C)  Humidity  Wind Speed (km/h)  \\\n",
       "0                  7.388889      0.89            14.1197   \n",
       "1                  7.227778      0.86            14.2646   \n",
       "\n",
       "   Wind Bearing (degrees)  Visibility (km)  Loud Cover  Pressure (millibars)  \\\n",
       "0                   251.0          15.8263         0.0               1015.13   \n",
       "1                   259.0          15.8263         0.0               1015.63   \n",
       "\n",
       "                       Daily Summary  \n",
       "0  Partly cloudy throughout the day.  \n",
       "1  Partly cloudy throughout the day.  "
      ]
     },
     "execution_count": 3,
     "metadata": {},
     "output_type": "execute_result"
    }
   ],
   "source": [
    "df.head(2)"
   ]
  },
  {
   "cell_type": "code",
   "execution_count": 4,
   "metadata": {},
   "outputs": [
    {
     "data": {
      "text/plain": [
       "Formatted Date              0\n",
       "Summary                     0\n",
       "Precip Type                 0\n",
       "Temperature (C)             0\n",
       "Apparent Temperature (C)    0\n",
       "Humidity                    0\n",
       "Wind Speed (km/h)           0\n",
       "Wind Bearing (degrees)      0\n",
       "Visibility (km)             0\n",
       "Loud Cover                  0\n",
       "Pressure (millibars)        0\n",
       "Daily Summary               0\n",
       "dtype: int64"
      ]
     },
     "execution_count": 4,
     "metadata": {},
     "output_type": "execute_result"
    }
   ],
   "source": [
    "df.isna().sum()"
   ]
  },
  {
   "cell_type": "code",
   "execution_count": 5,
   "metadata": {},
   "outputs": [],
   "source": [
    "df.rename(columns={\"Formatted Date\":\"dates\",\"Precip Type\":\"precip_type\",\"Temperature (C)\":\"temp\",\"Apparent Temperature (C)\":\"apptemp\",\"Wind Speed (km/h)\":\"wind_speed\",\"Wind Bearing (degrees)\":\"wind_bearing_deg\",\"Visibility (km)\":\"vis\",\"Loud Cover\":\"loud_cover\",\"Pressure (millibars)\":\"pres\",\"Daily Summary\":\"summary\"}, inplace=True)"
   ]
  },
  {
   "cell_type": "code",
   "execution_count": 6,
   "metadata": {},
   "outputs": [
    {
     "name": "stdout",
     "output_type": "stream",
     "text": [
      "<class 'pandas.core.frame.DataFrame'>\n",
      "RangeIndex: 96453 entries, 0 to 96452\n",
      "Data columns (total 12 columns):\n",
      "dates               96453 non-null object\n",
      "Summary             96453 non-null object\n",
      "precip_type         96453 non-null object\n",
      "temp                96453 non-null float64\n",
      "apptemp             96453 non-null float64\n",
      "Humidity            96453 non-null float64\n",
      "wind_speed          96453 non-null float64\n",
      "wind_bearing_deg    96453 non-null float64\n",
      "vis                 96453 non-null float64\n",
      "loud_cover          96453 non-null float64\n",
      "pres                96453 non-null float64\n",
      "summary             96453 non-null object\n",
      "dtypes: float64(8), object(4)\n",
      "memory usage: 8.8+ MB\n"
     ]
    }
   ],
   "source": [
    "df.info()"
   ]
  },
  {
   "cell_type": "code",
   "execution_count": 7,
   "metadata": {},
   "outputs": [],
   "source": [
    "#sns.pairplot(df)"
   ]
  },
  {
   "cell_type": "code",
   "execution_count": 8,
   "metadata": {},
   "outputs": [
    {
     "data": {
      "text/html": [
       "<div>\n",
       "<style scoped>\n",
       "    .dataframe tbody tr th:only-of-type {\n",
       "        vertical-align: middle;\n",
       "    }\n",
       "\n",
       "    .dataframe tbody tr th {\n",
       "        vertical-align: top;\n",
       "    }\n",
       "\n",
       "    .dataframe thead th {\n",
       "        text-align: right;\n",
       "    }\n",
       "</style>\n",
       "<table border=\"1\" class=\"dataframe\">\n",
       "  <thead>\n",
       "    <tr style=\"text-align: right;\">\n",
       "      <th></th>\n",
       "      <th>temp</th>\n",
       "      <th>apptemp</th>\n",
       "      <th>Humidity</th>\n",
       "      <th>wind_speed</th>\n",
       "      <th>wind_bearing_deg</th>\n",
       "      <th>vis</th>\n",
       "      <th>loud_cover</th>\n",
       "      <th>pres</th>\n",
       "    </tr>\n",
       "  </thead>\n",
       "  <tbody>\n",
       "    <tr>\n",
       "      <td>temp</td>\n",
       "      <td>1.000000</td>\n",
       "      <td>0.992629</td>\n",
       "      <td>-0.632255</td>\n",
       "      <td>0.008957</td>\n",
       "      <td>0.029988</td>\n",
       "      <td>0.392847</td>\n",
       "      <td>NaN</td>\n",
       "      <td>-0.005447</td>\n",
       "    </tr>\n",
       "    <tr>\n",
       "      <td>apptemp</td>\n",
       "      <td>0.992629</td>\n",
       "      <td>1.000000</td>\n",
       "      <td>-0.602571</td>\n",
       "      <td>-0.056650</td>\n",
       "      <td>0.029031</td>\n",
       "      <td>0.381718</td>\n",
       "      <td>NaN</td>\n",
       "      <td>-0.000219</td>\n",
       "    </tr>\n",
       "    <tr>\n",
       "      <td>Humidity</td>\n",
       "      <td>-0.632255</td>\n",
       "      <td>-0.602571</td>\n",
       "      <td>1.000000</td>\n",
       "      <td>-0.224951</td>\n",
       "      <td>0.000735</td>\n",
       "      <td>-0.369173</td>\n",
       "      <td>NaN</td>\n",
       "      <td>0.005454</td>\n",
       "    </tr>\n",
       "    <tr>\n",
       "      <td>wind_speed</td>\n",
       "      <td>0.008957</td>\n",
       "      <td>-0.056650</td>\n",
       "      <td>-0.224951</td>\n",
       "      <td>1.000000</td>\n",
       "      <td>0.103822</td>\n",
       "      <td>0.100749</td>\n",
       "      <td>NaN</td>\n",
       "      <td>-0.049263</td>\n",
       "    </tr>\n",
       "    <tr>\n",
       "      <td>wind_bearing_deg</td>\n",
       "      <td>0.029988</td>\n",
       "      <td>0.029031</td>\n",
       "      <td>0.000735</td>\n",
       "      <td>0.103822</td>\n",
       "      <td>1.000000</td>\n",
       "      <td>0.047594</td>\n",
       "      <td>NaN</td>\n",
       "      <td>-0.011651</td>\n",
       "    </tr>\n",
       "    <tr>\n",
       "      <td>vis</td>\n",
       "      <td>0.392847</td>\n",
       "      <td>0.381718</td>\n",
       "      <td>-0.369173</td>\n",
       "      <td>0.100749</td>\n",
       "      <td>0.047594</td>\n",
       "      <td>1.000000</td>\n",
       "      <td>NaN</td>\n",
       "      <td>0.059818</td>\n",
       "    </tr>\n",
       "    <tr>\n",
       "      <td>loud_cover</td>\n",
       "      <td>NaN</td>\n",
       "      <td>NaN</td>\n",
       "      <td>NaN</td>\n",
       "      <td>NaN</td>\n",
       "      <td>NaN</td>\n",
       "      <td>NaN</td>\n",
       "      <td>NaN</td>\n",
       "      <td>NaN</td>\n",
       "    </tr>\n",
       "    <tr>\n",
       "      <td>pres</td>\n",
       "      <td>-0.005447</td>\n",
       "      <td>-0.000219</td>\n",
       "      <td>0.005454</td>\n",
       "      <td>-0.049263</td>\n",
       "      <td>-0.011651</td>\n",
       "      <td>0.059818</td>\n",
       "      <td>NaN</td>\n",
       "      <td>1.000000</td>\n",
       "    </tr>\n",
       "  </tbody>\n",
       "</table>\n",
       "</div>"
      ],
      "text/plain": [
       "                      temp   apptemp  Humidity  wind_speed  wind_bearing_deg  \\\n",
       "temp              1.000000  0.992629 -0.632255    0.008957          0.029988   \n",
       "apptemp           0.992629  1.000000 -0.602571   -0.056650          0.029031   \n",
       "Humidity         -0.632255 -0.602571  1.000000   -0.224951          0.000735   \n",
       "wind_speed        0.008957 -0.056650 -0.224951    1.000000          0.103822   \n",
       "wind_bearing_deg  0.029988  0.029031  0.000735    0.103822          1.000000   \n",
       "vis               0.392847  0.381718 -0.369173    0.100749          0.047594   \n",
       "loud_cover             NaN       NaN       NaN         NaN               NaN   \n",
       "pres             -0.005447 -0.000219  0.005454   -0.049263         -0.011651   \n",
       "\n",
       "                       vis  loud_cover      pres  \n",
       "temp              0.392847         NaN -0.005447  \n",
       "apptemp           0.381718         NaN -0.000219  \n",
       "Humidity         -0.369173         NaN  0.005454  \n",
       "wind_speed        0.100749         NaN -0.049263  \n",
       "wind_bearing_deg  0.047594         NaN -0.011651  \n",
       "vis               1.000000         NaN  0.059818  \n",
       "loud_cover             NaN         NaN       NaN  \n",
       "pres              0.059818         NaN  1.000000  "
      ]
     },
     "execution_count": 8,
     "metadata": {},
     "output_type": "execute_result"
    }
   ],
   "source": [
    "df.corr()"
   ]
  },
  {
   "cell_type": "code",
   "execution_count": 91,
   "metadata": {},
   "outputs": [
    {
     "data": {
      "text/plain": [
       "(8.0, 0)"
      ]
     },
     "execution_count": 91,
     "metadata": {},
     "output_type": "execute_result"
    },
    {
     "data": {
      "image/png": "[encoded data removed]",
      "text/plain": [
       "<Figure size 432x288 with 2 Axes>"
      ]
     },
     "metadata": {
      "needs_background": "light"
     },
     "output_type": "display_data"
    }
   ],
   "source": [
    "ax=sns.heatmap(df.corr(), annot=True)\n",
    "ax.set_ylim(8.0, 0)"
   ]
  },
  {
   "cell_type": "code",
   "execution_count": 10,
   "metadata": {},
   "outputs": [],
   "source": [
    "%matplotlib inline"
   ]
  },
  {
   "cell_type": "code",
   "execution_count": 11,
   "metadata": {},
   "outputs": [
    {
     "name": "stdout",
     "output_type": "stream",
     "text": [
      "<class 'pandas.core.frame.DataFrame'>\n",
      "RangeIndex: 96453 entries, 0 to 96452\n",
      "Data columns (total 12 columns):\n",
      "dates               96453 non-null object\n",
      "Summary             96453 non-null object\n",
      "precip_type         96453 non-null object\n",
      "temp                96453 non-null float64\n",
      "apptemp             96453 non-null float64\n",
      "Humidity            96453 non-null float64\n",
      "wind_speed          96453 non-null float64\n",
      "wind_bearing_deg    96453 non-null float64\n",
      "vis                 96453 non-null float64\n",
      "loud_cover          96453 non-null float64\n",
      "pres                96453 non-null float64\n",
      "summary             96453 non-null object\n",
      "dtypes: float64(8), object(4)\n",
      "memory usage: 8.8+ MB\n"
     ]
    }
   ],
   "source": [
    "df.info()"
   ]
  },
  {
   "cell_type": "code",
   "execution_count": 12,
   "metadata": {},
   "outputs": [],
   "source": [
    "df.dates=pd.to_datetime(df.dates, utc=True )"
   ]
  },
  {
   "cell_type": "code",
   "execution_count": 13,
   "metadata": {},
   "outputs": [],
   "source": [
    "Date=pd.DatetimeIndex(df.dates)"
   ]
  },
  {
   "cell_type": "code",
   "execution_count": 14,
   "metadata": {},
   "outputs": [
    {
     "data": {
      "text/plain": [
       "Text(0, 0.5, 'Temp')"
      ]
     },
     "execution_count": 14,
     "metadata": {},
     "output_type": "execute_result"
    },
    {
     "data": {
      "image/png": "[encoded data removed]",
      "text/plain": [
       "<Figure size 432x288 with 1 Axes>"
      ]
     },
     "metadata": {
      "needs_background": "light"
     },
     "output_type": "display_data"
    }
   ],
   "source": [
    "sns.boxplot(x=Date.month,y=df.temp)\n",
    "plt.xlabel(\"Month\")\n",
    "plt.ylabel(\"Temp\")"
   ]
  },
  {
   "cell_type": "code",
   "execution_count": 15,
   "metadata": {},
   "outputs": [
    {
     "data": {
      "text/plain": [
       "Text(0, 0.5, 'Temp')"
      ]
     },
     "execution_count": 15,
     "metadata": {},
     "output_type": "execute_result"
    },
    {
     "data": {
      "image/png": "[encoded data removed]",
      "text/plain": [
       "<Figure size 432x288 with 1 Axes>"
      ]
     },
     "metadata": {
      "needs_background": "light"
     },
     "output_type": "display_data"
    }
   ],
   "source": [
    "sns.boxplot(x=Date.year,y=df.temp)\n",
    "plt.xlabel(\"Year\")\n",
    "plt.ylabel(\"Temp\")\n",
    "#both min max temp seems to follow a 3 year pattern\n",
    "#2006,2009,2012,2015 seems to have high max and min temp as compared to other years.\n"
   ]
  },
  {
   "cell_type": "code",
   "execution_count": 16,
   "metadata": {},
   "outputs": [],
   "source": [
    "#pd.concat([df, Month], axis=1)"
   ]
  },
  {
   "cell_type": "code",
   "execution_count": 17,
   "metadata": {},
   "outputs": [
    {
     "data": {
      "text/html": [
       "<div>\n",
       "<style scoped>\n",
       "    .dataframe tbody tr th:only-of-type {\n",
       "        vertical-align: middle;\n",
       "    }\n",
       "\n",
       "    .dataframe tbody tr th {\n",
       "        vertical-align: top;\n",
       "    }\n",
       "\n",
       "    .dataframe thead th {\n",
       "        text-align: right;\n",
       "    }\n",
       "</style>\n",
       "<table border=\"1\" class=\"dataframe\">\n",
       "  <thead>\n",
       "    <tr style=\"text-align: right;\">\n",
       "      <th></th>\n",
       "      <th>dates</th>\n",
       "      <th>Summary</th>\n",
       "      <th>precip_type</th>\n",
       "      <th>temp</th>\n",
       "      <th>apptemp</th>\n",
       "      <th>Humidity</th>\n",
       "      <th>wind_speed</th>\n",
       "      <th>wind_bearing_deg</th>\n",
       "      <th>vis</th>\n",
       "      <th>loud_cover</th>\n",
       "      <th>pres</th>\n",
       "      <th>summary</th>\n",
       "    </tr>\n",
       "  </thead>\n",
       "  <tbody>\n",
       "    <tr>\n",
       "      <td>0</td>\n",
       "      <td>2006-03-31 22:00:00+00:00</td>\n",
       "      <td>Partly Cloudy</td>\n",
       "      <td>rain</td>\n",
       "      <td>9.472222</td>\n",
       "      <td>7.388889</td>\n",
       "      <td>0.89</td>\n",
       "      <td>14.1197</td>\n",
       "      <td>251.0</td>\n",
       "      <td>15.8263</td>\n",
       "      <td>0.0</td>\n",
       "      <td>1015.13</td>\n",
       "      <td>Partly cloudy throughout the day.</td>\n",
       "    </tr>\n",
       "    <tr>\n",
       "      <td>1</td>\n",
       "      <td>2006-03-31 23:00:00+00:00</td>\n",
       "      <td>Partly Cloudy</td>\n",
       "      <td>rain</td>\n",
       "      <td>9.355556</td>\n",
       "      <td>7.227778</td>\n",
       "      <td>0.86</td>\n",
       "      <td>14.2646</td>\n",
       "      <td>259.0</td>\n",
       "      <td>15.8263</td>\n",
       "      <td>0.0</td>\n",
       "      <td>1015.63</td>\n",
       "      <td>Partly cloudy throughout the day.</td>\n",
       "    </tr>\n",
       "    <tr>\n",
       "      <td>2</td>\n",
       "      <td>2006-04-01 00:00:00+00:00</td>\n",
       "      <td>Mostly Cloudy</td>\n",
       "      <td>rain</td>\n",
       "      <td>9.377778</td>\n",
       "      <td>9.377778</td>\n",
       "      <td>0.89</td>\n",
       "      <td>3.9284</td>\n",
       "      <td>204.0</td>\n",
       "      <td>14.9569</td>\n",
       "      <td>0.0</td>\n",
       "      <td>1015.94</td>\n",
       "      <td>Partly cloudy throughout the day.</td>\n",
       "    </tr>\n",
       "    <tr>\n",
       "      <td>3</td>\n",
       "      <td>2006-04-01 01:00:00+00:00</td>\n",
       "      <td>Partly Cloudy</td>\n",
       "      <td>rain</td>\n",
       "      <td>8.288889</td>\n",
       "      <td>5.944444</td>\n",
       "      <td>0.83</td>\n",
       "      <td>14.1036</td>\n",
       "      <td>269.0</td>\n",
       "      <td>15.8263</td>\n",
       "      <td>0.0</td>\n",
       "      <td>1016.41</td>\n",
       "      <td>Partly cloudy throughout the day.</td>\n",
       "    </tr>\n",
       "    <tr>\n",
       "      <td>4</td>\n",
       "      <td>2006-04-01 02:00:00+00:00</td>\n",
       "      <td>Mostly Cloudy</td>\n",
       "      <td>rain</td>\n",
       "      <td>8.755556</td>\n",
       "      <td>6.977778</td>\n",
       "      <td>0.83</td>\n",
       "      <td>11.0446</td>\n",
       "      <td>259.0</td>\n",
       "      <td>15.8263</td>\n",
       "      <td>0.0</td>\n",
       "      <td>1016.51</td>\n",
       "      <td>Partly cloudy throughout the day.</td>\n",
       "    </tr>\n",
       "  </tbody>\n",
       "</table>\n",
       "</div>"
      ],
      "text/plain": [
       "                      dates        Summary precip_type      temp   apptemp  \\\n",
       "0 2006-03-31 22:00:00+00:00  Partly Cloudy        rain  9.472222  7.388889   \n",
       "1 2006-03-31 23:00:00+00:00  Partly Cloudy        rain  9.355556  7.227778   \n",
       "2 2006-04-01 00:00:00+00:00  Mostly Cloudy        rain  9.377778  9.377778   \n",
       "3 2006-04-01 01:00:00+00:00  Partly Cloudy        rain  8.288889  5.944444   \n",
       "4 2006-04-01 02:00:00+00:00  Mostly Cloudy        rain  8.755556  6.977778   \n",
       "\n",
       "   Humidity  wind_speed  wind_bearing_deg      vis  loud_cover     pres  \\\n",
       "0      0.89     14.1197             251.0  15.8263         0.0  1015.13   \n",
       "1      0.86     14.2646             259.0  15.8263         0.0  1015.63   \n",
       "2      0.89      3.9284             204.0  14.9569         0.0  1015.94   \n",
       "3      0.83     14.1036             269.0  15.8263         0.0  1016.41   \n",
       "4      0.83     11.0446             259.0  15.8263         0.0  1016.51   \n",
       "\n",
       "                             summary  \n",
       "0  Partly cloudy throughout the day.  \n",
       "1  Partly cloudy throughout the day.  \n",
       "2  Partly cloudy throughout the day.  \n",
       "3  Partly cloudy throughout the day.  \n",
       "4  Partly cloudy throughout the day.  "
      ]
     },
     "execution_count": 17,
     "metadata": {},
     "output_type": "execute_result"
    }
   ],
   "source": [
    "df.head()"
   ]
  },
  {
   "cell_type": "code",
   "execution_count": 18,
   "metadata": {},
   "outputs": [],
   "source": [
    "Month=pd.DataFrame(Date.month)"
   ]
  },
  {
   "cell_type": "code",
   "execution_count": 19,
   "metadata": {},
   "outputs": [],
   "source": [
    "df.Summary=df.Summary.astype('category')\n",
    "df.precip_type=df.precip_type.astype('category')"
   ]
  },
  {
   "cell_type": "code",
   "execution_count": 20,
   "metadata": {},
   "outputs": [
    {
     "name": "stdout",
     "output_type": "stream",
     "text": [
      "<class 'pandas.core.frame.DataFrame'>\n",
      "RangeIndex: 96453 entries, 0 to 96452\n",
      "Data columns (total 12 columns):\n",
      "dates               96453 non-null datetime64[ns, UTC]\n",
      "Summary             96453 non-null category\n",
      "precip_type         96453 non-null category\n",
      "temp                96453 non-null float64\n",
      "apptemp             96453 non-null float64\n",
      "Humidity            96453 non-null float64\n",
      "wind_speed          96453 non-null float64\n",
      "wind_bearing_deg    96453 non-null float64\n",
      "vis                 96453 non-null float64\n",
      "loud_cover          96453 non-null float64\n",
      "pres                96453 non-null float64\n",
      "summary             96453 non-null object\n",
      "dtypes: category(2), datetime64[ns, UTC](1), float64(8), object(1)\n",
      "memory usage: 7.5+ MB\n"
     ]
    }
   ],
   "source": [
    "df.info()"
   ]
  },
  {
   "cell_type": "code",
   "execution_count": 21,
   "metadata": {},
   "outputs": [],
   "source": [
    "data=df.iloc[:,1:11]"
   ]
  },
  {
   "cell_type": "code",
   "execution_count": 22,
   "metadata": {},
   "outputs": [],
   "source": [
    "data.loc[:,\"month\"]=Date.month"
   ]
  },
  {
   "cell_type": "code",
   "execution_count": 23,
   "metadata": {},
   "outputs": [
    {
     "data": {
      "text/html": [
       "<div>\n",
       "<style scoped>\n",
       "    .dataframe tbody tr th:only-of-type {\n",
       "        vertical-align: middle;\n",
       "    }\n",
       "\n",
       "    .dataframe tbody tr th {\n",
       "        vertical-align: top;\n",
       "    }\n",
       "\n",
       "    .dataframe thead th {\n",
       "        text-align: right;\n",
       "    }\n",
       "</style>\n",
       "<table border=\"1\" class=\"dataframe\">\n",
       "  <thead>\n",
       "    <tr style=\"text-align: right;\">\n",
       "      <th></th>\n",
       "      <th>Summary</th>\n",
       "      <th>precip_type</th>\n",
       "      <th>temp</th>\n",
       "      <th>apptemp</th>\n",
       "      <th>Humidity</th>\n",
       "      <th>wind_speed</th>\n",
       "      <th>wind_bearing_deg</th>\n",
       "      <th>vis</th>\n",
       "      <th>loud_cover</th>\n",
       "      <th>pres</th>\n",
       "      <th>month</th>\n",
       "    </tr>\n",
       "  </thead>\n",
       "  <tbody>\n",
       "    <tr>\n",
       "      <td>0</td>\n",
       "      <td>Partly Cloudy</td>\n",
       "      <td>rain</td>\n",
       "      <td>9.472222</td>\n",
       "      <td>7.388889</td>\n",
       "      <td>0.89</td>\n",
       "      <td>14.1197</td>\n",
       "      <td>251.0</td>\n",
       "      <td>15.8263</td>\n",
       "      <td>0.0</td>\n",
       "      <td>1015.13</td>\n",
       "      <td>3</td>\n",
       "    </tr>\n",
       "    <tr>\n",
       "      <td>1</td>\n",
       "      <td>Partly Cloudy</td>\n",
       "      <td>rain</td>\n",
       "      <td>9.355556</td>\n",
       "      <td>7.227778</td>\n",
       "      <td>0.86</td>\n",
       "      <td>14.2646</td>\n",
       "      <td>259.0</td>\n",
       "      <td>15.8263</td>\n",
       "      <td>0.0</td>\n",
       "      <td>1015.63</td>\n",
       "      <td>3</td>\n",
       "    </tr>\n",
       "    <tr>\n",
       "      <td>2</td>\n",
       "      <td>Mostly Cloudy</td>\n",
       "      <td>rain</td>\n",
       "      <td>9.377778</td>\n",
       "      <td>9.377778</td>\n",
       "      <td>0.89</td>\n",
       "      <td>3.9284</td>\n",
       "      <td>204.0</td>\n",
       "      <td>14.9569</td>\n",
       "      <td>0.0</td>\n",
       "      <td>1015.94</td>\n",
       "      <td>4</td>\n",
       "    </tr>\n",
       "    <tr>\n",
       "      <td>3</td>\n",
       "      <td>Partly Cloudy</td>\n",
       "      <td>rain</td>\n",
       "      <td>8.288889</td>\n",
       "      <td>5.944444</td>\n",
       "      <td>0.83</td>\n",
       "      <td>14.1036</td>\n",
       "      <td>269.0</td>\n",
       "      <td>15.8263</td>\n",
       "      <td>0.0</td>\n",
       "      <td>1016.41</td>\n",
       "      <td>4</td>\n",
       "    </tr>\n",
       "  </tbody>\n",
       "</table>\n",
       "</div>"
      ],
      "text/plain": [
       "         Summary precip_type      temp   apptemp  Humidity  wind_speed  \\\n",
       "0  Partly Cloudy        rain  9.472222  7.388889      0.89     14.1197   \n",
       "1  Partly Cloudy        rain  9.355556  7.227778      0.86     14.2646   \n",
       "2  Mostly Cloudy        rain  9.377778  9.377778      0.89      3.9284   \n",
       "3  Partly Cloudy        rain  8.288889  5.944444      0.83     14.1036   \n",
       "\n",
       "   wind_bearing_deg      vis  loud_cover     pres  month  \n",
       "0             251.0  15.8263         0.0  1015.13      3  \n",
       "1             259.0  15.8263         0.0  1015.63      3  \n",
       "2             204.0  14.9569         0.0  1015.94      4  \n",
       "3             269.0  15.8263         0.0  1016.41      4  "
      ]
     },
     "execution_count": 23,
     "metadata": {},
     "output_type": "execute_result"
    }
   ],
   "source": [
    "data.head(4)"
   ]
  },
  {
   "cell_type": "code",
   "execution_count": 24,
   "metadata": {},
   "outputs": [],
   "source": [
    "data.month=data.month.astype('category')"
   ]
  },
  {
   "cell_type": "code",
   "execution_count": 25,
   "metadata": {},
   "outputs": [
    {
     "name": "stdout",
     "output_type": "stream",
     "text": [
      "<class 'pandas.core.frame.DataFrame'>\n",
      "RangeIndex: 96453 entries, 0 to 96452\n",
      "Data columns (total 11 columns):\n",
      "Summary             96453 non-null category\n",
      "precip_type         96453 non-null category\n",
      "temp                96453 non-null float64\n",
      "apptemp             96453 non-null float64\n",
      "Humidity            96453 non-null float64\n",
      "wind_speed          96453 non-null float64\n",
      "wind_bearing_deg    96453 non-null float64\n",
      "vis                 96453 non-null float64\n",
      "loud_cover          96453 non-null float64\n",
      "pres                96453 non-null float64\n",
      "month               96453 non-null category\n",
      "dtypes: category(3), float64(8)\n",
      "memory usage: 6.2 MB\n"
     ]
    }
   ],
   "source": [
    "data.info()"
   ]
  },
  {
   "cell_type": "code",
   "execution_count": 26,
   "metadata": {},
   "outputs": [],
   "source": [
    "#data.rename(columns={\"dates\":'Month'}, inplace=True)"
   ]
  },
  {
   "cell_type": "code",
   "execution_count": 27,
   "metadata": {},
   "outputs": [
    {
     "data": {
      "text/html": [
       "<div>\n",
       "<style scoped>\n",
       "    .dataframe tbody tr th:only-of-type {\n",
       "        vertical-align: middle;\n",
       "    }\n",
       "\n",
       "    .dataframe tbody tr th {\n",
       "        vertical-align: top;\n",
       "    }\n",
       "\n",
       "    .dataframe thead th {\n",
       "        text-align: right;\n",
       "    }\n",
       "</style>\n",
       "<table border=\"1\" class=\"dataframe\">\n",
       "  <thead>\n",
       "    <tr style=\"text-align: right;\">\n",
       "      <th></th>\n",
       "      <th>temp</th>\n",
       "      <th>apptemp</th>\n",
       "      <th>Humidity</th>\n",
       "      <th>wind_speed</th>\n",
       "      <th>wind_bearing_deg</th>\n",
       "      <th>vis</th>\n",
       "      <th>loud_cover</th>\n",
       "      <th>pres</th>\n",
       "    </tr>\n",
       "  </thead>\n",
       "  <tbody>\n",
       "    <tr>\n",
       "      <td>count</td>\n",
       "      <td>96453.000000</td>\n",
       "      <td>96453.000000</td>\n",
       "      <td>96453.000000</td>\n",
       "      <td>96453.000000</td>\n",
       "      <td>96453.000000</td>\n",
       "      <td>96453.000000</td>\n",
       "      <td>96453.0</td>\n",
       "      <td>96453.000000</td>\n",
       "    </tr>\n",
       "    <tr>\n",
       "      <td>mean</td>\n",
       "      <td>11.932678</td>\n",
       "      <td>10.855029</td>\n",
       "      <td>0.734899</td>\n",
       "      <td>10.810640</td>\n",
       "      <td>187.509232</td>\n",
       "      <td>10.347325</td>\n",
       "      <td>0.0</td>\n",
       "      <td>1003.235956</td>\n",
       "    </tr>\n",
       "    <tr>\n",
       "      <td>std</td>\n",
       "      <td>9.551546</td>\n",
       "      <td>10.696847</td>\n",
       "      <td>0.195473</td>\n",
       "      <td>6.913571</td>\n",
       "      <td>107.383428</td>\n",
       "      <td>4.192123</td>\n",
       "      <td>0.0</td>\n",
       "      <td>116.969906</td>\n",
       "    </tr>\n",
       "    <tr>\n",
       "      <td>min</td>\n",
       "      <td>-21.822222</td>\n",
       "      <td>-27.716667</td>\n",
       "      <td>0.000000</td>\n",
       "      <td>0.000000</td>\n",
       "      <td>0.000000</td>\n",
       "      <td>0.000000</td>\n",
       "      <td>0.0</td>\n",
       "      <td>0.000000</td>\n",
       "    </tr>\n",
       "    <tr>\n",
       "      <td>25%</td>\n",
       "      <td>4.688889</td>\n",
       "      <td>2.311111</td>\n",
       "      <td>0.600000</td>\n",
       "      <td>5.828200</td>\n",
       "      <td>116.000000</td>\n",
       "      <td>8.339800</td>\n",
       "      <td>0.0</td>\n",
       "      <td>1011.900000</td>\n",
       "    </tr>\n",
       "    <tr>\n",
       "      <td>50%</td>\n",
       "      <td>12.000000</td>\n",
       "      <td>12.000000</td>\n",
       "      <td>0.780000</td>\n",
       "      <td>9.965900</td>\n",
       "      <td>180.000000</td>\n",
       "      <td>10.046400</td>\n",
       "      <td>0.0</td>\n",
       "      <td>1016.450000</td>\n",
       "    </tr>\n",
       "    <tr>\n",
       "      <td>75%</td>\n",
       "      <td>18.838889</td>\n",
       "      <td>18.838889</td>\n",
       "      <td>0.890000</td>\n",
       "      <td>14.135800</td>\n",
       "      <td>290.000000</td>\n",
       "      <td>14.812000</td>\n",
       "      <td>0.0</td>\n",
       "      <td>1021.090000</td>\n",
       "    </tr>\n",
       "    <tr>\n",
       "      <td>max</td>\n",
       "      <td>39.905556</td>\n",
       "      <td>39.344444</td>\n",
       "      <td>1.000000</td>\n",
       "      <td>63.852600</td>\n",
       "      <td>359.000000</td>\n",
       "      <td>16.100000</td>\n",
       "      <td>0.0</td>\n",
       "      <td>1046.380000</td>\n",
       "    </tr>\n",
       "  </tbody>\n",
       "</table>\n",
       "</div>"
      ],
      "text/plain": [
       "               temp       apptemp      Humidity    wind_speed  \\\n",
       "count  96453.000000  96453.000000  96453.000000  96453.000000   \n",
       "mean      11.932678     10.855029      0.734899     10.810640   \n",
       "std        9.551546     10.696847      0.195473      6.913571   \n",
       "min      -21.822222    -27.716667      0.000000      0.000000   \n",
       "25%        4.688889      2.311111      0.600000      5.828200   \n",
       "50%       12.000000     12.000000      0.780000      9.965900   \n",
       "75%       18.838889     18.838889      0.890000     14.135800   \n",
       "max       39.905556     39.344444      1.000000     63.852600   \n",
       "\n",
       "       wind_bearing_deg           vis  loud_cover          pres  \n",
       "count      96453.000000  96453.000000     96453.0  96453.000000  \n",
       "mean         187.509232     10.347325         0.0   1003.235956  \n",
       "std          107.383428      4.192123         0.0    116.969906  \n",
       "min            0.000000      0.000000         0.0      0.000000  \n",
       "25%          116.000000      8.339800         0.0   1011.900000  \n",
       "50%          180.000000     10.046400         0.0   1016.450000  \n",
       "75%          290.000000     14.812000         0.0   1021.090000  \n",
       "max          359.000000     16.100000         0.0   1046.380000  "
      ]
     },
     "execution_count": 27,
     "metadata": {},
     "output_type": "execute_result"
    }
   ],
   "source": [
    "Stat=data.describe()\n",
    "Stat"
   ]
  },
  {
   "cell_type": "code",
   "execution_count": 28,
   "metadata": {},
   "outputs": [
    {
     "data": {
      "text/plain": [
       "count    96453.0\n",
       "mean         0.0\n",
       "std          0.0\n",
       "min          0.0\n",
       "25%          0.0\n",
       "50%          0.0\n",
       "75%          0.0\n",
       "max          0.0\n",
       "Name: loud_cover, dtype: float64"
      ]
     },
     "execution_count": 28,
     "metadata": {},
     "output_type": "execute_result"
    }
   ],
   "source": [
    "df.loud_cover.describe()"
   ]
  },
  {
   "cell_type": "code",
   "execution_count": 29,
   "metadata": {},
   "outputs": [],
   "source": [
    "data.drop(labels='loud_cover', axis=1, inplace=True)"
   ]
  },
  {
   "cell_type": "code",
   "execution_count": 30,
   "metadata": {},
   "outputs": [
    {
     "data": {
      "text/plain": [
       "temp                 14.150000\n",
       "apptemp              16.527778\n",
       "Humidity              0.290000\n",
       "wind_speed            8.307600\n",
       "wind_bearing_deg    174.000000\n",
       "vis                   6.472200\n",
       "loud_cover            0.000000\n",
       "pres                  9.190000\n",
       "Name: 75%, dtype: float64"
      ]
     },
     "execution_count": 30,
     "metadata": {},
     "output_type": "execute_result"
    }
   ],
   "source": [
    "IQR=Stat.loc[[\"25%\",\"75%\"],:].diff().loc[\"75%\",:]\n",
    "IQR"
   ]
  },
  {
   "cell_type": "code",
   "execution_count": 31,
   "metadata": {},
   "outputs": [
    {
     "data": {
      "text/plain": [
       "temp                  -2.386111\n",
       "apptemp               -5.952778\n",
       "Humidity               0.455000\n",
       "wind_speed             1.674400\n",
       "wind_bearing_deg      29.000000\n",
       "vis                    5.103700\n",
       "loud_cover             0.000000\n",
       "pres                1007.305000\n",
       "Name: 75%, dtype: float64"
      ]
     },
     "execution_count": 31,
     "metadata": {},
     "output_type": "execute_result"
    }
   ],
   "source": [
    "lower=Stat.loc[\"75%\",:]-1.5*IQR\n",
    "lower"
   ]
  },
  {
   "cell_type": "code",
   "execution_count": 32,
   "metadata": {},
   "outputs": [
    {
     "data": {
      "text/plain": [
       "temp                  40.063889\n",
       "apptemp               43.630556\n",
       "Humidity               1.325000\n",
       "wind_speed            26.597200\n",
       "wind_bearing_deg     551.000000\n",
       "vis                   24.520300\n",
       "loud_cover             0.000000\n",
       "pres                1034.875000\n",
       "Name: 75%, dtype: float64"
      ]
     },
     "execution_count": 32,
     "metadata": {},
     "output_type": "execute_result"
    }
   ],
   "source": [
    "upper=Stat.loc[\"75%\",:]+1.5*IQR\n",
    "upper"
   ]
  },
  {
   "cell_type": "code",
   "execution_count": 33,
   "metadata": {},
   "outputs": [],
   "source": [
    "data=data.loc[(data.temp>-2.386111) & (data.temp <40.063889),]"
   ]
  },
  {
   "cell_type": "code",
   "execution_count": 34,
   "metadata": {},
   "outputs": [
    {
     "data": {
      "text/plain": [
       "<matplotlib.axes._subplots.AxesSubplot at 0x1b0d3cda548>"
      ]
     },
     "execution_count": 34,
     "metadata": {},
     "output_type": "execute_result"
    },
    {
     "data": {
      "image/png": "[encoded data removed]",
      "text/plain": [
       "<Figure size 432x288 with 1 Axes>"
      ]
     },
     "metadata": {
      "needs_background": "light"
     },
     "output_type": "display_data"
    }
   ],
   "source": [
    "sns.boxplot(data.temp)"
   ]
  },
  {
   "cell_type": "code",
   "execution_count": 35,
   "metadata": {},
   "outputs": [
    {
     "data": {
      "text/plain": [
       "<matplotlib.axes._subplots.AxesSubplot at 0x1b0d3c67308>"
      ]
     },
     "execution_count": 35,
     "metadata": {},
     "output_type": "execute_result"
    },
    {
     "data": {
      "image/png": "[encoded data removed]",
      "text/plain": [
       "<Figure size 432x288 with 1 Axes>"
      ]
     },
     "metadata": {
      "needs_background": "light"
     },
     "output_type": "display_data"
    }
   ],
   "source": [
    "sns.boxplot(data.apptemp)"
   ]
  },
  {
   "cell_type": "code",
   "execution_count": 36,
   "metadata": {},
   "outputs": [],
   "source": [
    "data=data.loc[(data.apptemp>-5.952778) & (data.apptemp <43.630556),]"
   ]
  },
  {
   "cell_type": "code",
   "execution_count": 37,
   "metadata": {},
   "outputs": [],
   "source": [
    "data=data.loc[(data.wind_speed>1.674400) & (data.wind_speed <26.597200),]"
   ]
  },
  {
   "cell_type": "code",
   "execution_count": 38,
   "metadata": {},
   "outputs": [
    {
     "data": {
      "text/plain": [
       "<matplotlib.axes._subplots.AxesSubplot at 0x1b0d3da74c8>"
      ]
     },
     "execution_count": 38,
     "metadata": {},
     "output_type": "execute_result"
    },
    {
     "data": {
      "image/png": "[encoded data removed]",
      "text/plain": [
       "<Figure size 432x288 with 1 Axes>"
      ]
     },
     "metadata": {
      "needs_background": "light"
     },
     "output_type": "display_data"
    }
   ],
   "source": [
    "sns.boxplot(data.wind_speed)"
   ]
  },
  {
   "cell_type": "code",
   "execution_count": 39,
   "metadata": {},
   "outputs": [
    {
     "data": {
      "text/plain": [
       "<matplotlib.axes._subplots.AxesSubplot at 0x1b0d3c671c8>"
      ]
     },
     "execution_count": 39,
     "metadata": {},
     "output_type": "execute_result"
    },
    {
     "data": {
      "image/png": "[encoded data removed]",
      "text/plain": [
       "<Figure size 432x288 with 1 Axes>"
      ]
     },
     "metadata": {
      "needs_background": "light"
     },
     "output_type": "display_data"
    }
   ],
   "source": [
    "sns.boxplot(data.wind_bearing_deg)"
   ]
  },
  {
   "cell_type": "code",
   "execution_count": 40,
   "metadata": {},
   "outputs": [],
   "source": [
    "data=data.loc[(data.wind_bearing_deg>174.000000) & (data.wind_bearing_deg <551.000000),]"
   ]
  },
  {
   "cell_type": "code",
   "execution_count": 41,
   "metadata": {},
   "outputs": [
    {
     "data": {
      "text/plain": [
       "<matplotlib.axes._subplots.AxesSubplot at 0x1b0d4a5c548>"
      ]
     },
     "execution_count": 41,
     "metadata": {},
     "output_type": "execute_result"
    },
    {
     "data": {
      "image/png": "[encoded data removed]",
      "text/plain": [
       "<Figure size 432x288 with 1 Axes>"
      ]
     },
     "metadata": {
      "needs_background": "light"
     },
     "output_type": "display_data"
    }
   ],
   "source": [
    "sns.boxplot(data.vis)"
   ]
  },
  {
   "cell_type": "code",
   "execution_count": 42,
   "metadata": {},
   "outputs": [],
   "source": [
    "data=data.loc[(data.vis>5.103700) & (data.vis <24.520300),]"
   ]
  },
  {
   "cell_type": "code",
   "execution_count": 92,
   "metadata": {},
   "outputs": [
    {
     "data": {
      "text/plain": [
       "<matplotlib.axes._subplots.AxesSubplot at 0x1b0dce84188>"
      ]
     },
     "execution_count": 92,
     "metadata": {},
     "output_type": "execute_result"
    },
    {
     "data": {
      "image/png": "[encoded data removed]",
      "text/plain": [
       "<Figure size 432x288 with 1 Axes>"
      ]
     },
     "metadata": {
      "needs_background": "light"
     },
     "output_type": "display_data"
    }
   ],
   "source": [
    "sns.boxplot(data.pres)"
   ]
  },
  {
   "cell_type": "code",
   "execution_count": 44,
   "metadata": {},
   "outputs": [],
   "source": [
    "data=data.loc[(data.pres>1007.305000) & (data.pres <1034.875000),]"
   ]
  },
  {
   "cell_type": "code",
   "execution_count": 45,
   "metadata": {},
   "outputs": [
    {
     "data": {
      "text/html": [
       "<div>\n",
       "<style scoped>\n",
       "    .dataframe tbody tr th:only-of-type {\n",
       "        vertical-align: middle;\n",
       "    }\n",
       "\n",
       "    .dataframe tbody tr th {\n",
       "        vertical-align: top;\n",
       "    }\n",
       "\n",
       "    .dataframe thead th {\n",
       "        text-align: right;\n",
       "    }\n",
       "</style>\n",
       "<table border=\"1\" class=\"dataframe\">\n",
       "  <thead>\n",
       "    <tr style=\"text-align: right;\">\n",
       "      <th></th>\n",
       "      <th>temp</th>\n",
       "      <th>apptemp</th>\n",
       "      <th>Humidity</th>\n",
       "      <th>wind_speed</th>\n",
       "      <th>wind_bearing_deg</th>\n",
       "      <th>vis</th>\n",
       "      <th>pres</th>\n",
       "    </tr>\n",
       "  </thead>\n",
       "  <tbody>\n",
       "    <tr>\n",
       "      <td>count</td>\n",
       "      <td>35312.000000</td>\n",
       "      <td>35312.000000</td>\n",
       "      <td>35312.000000</td>\n",
       "      <td>35312.000000</td>\n",
       "      <td>35312.000000</td>\n",
       "      <td>35312.000000</td>\n",
       "      <td>35312.000000</td>\n",
       "    </tr>\n",
       "    <tr>\n",
       "      <td>mean</td>\n",
       "      <td>14.613307</td>\n",
       "      <td>13.884837</td>\n",
       "      <td>0.698451</td>\n",
       "      <td>10.640465</td>\n",
       "      <td>277.136639</td>\n",
       "      <td>11.754459</td>\n",
       "      <td>1016.839472</td>\n",
       "    </tr>\n",
       "    <tr>\n",
       "      <td>std</td>\n",
       "      <td>8.602470</td>\n",
       "      <td>9.502382</td>\n",
       "      <td>0.197676</td>\n",
       "      <td>5.715497</td>\n",
       "      <td>53.906359</td>\n",
       "      <td>2.952981</td>\n",
       "      <td>5.310836</td>\n",
       "    </tr>\n",
       "    <tr>\n",
       "      <td>min</td>\n",
       "      <td>-2.383333</td>\n",
       "      <td>-5.950000</td>\n",
       "      <td>0.130000</td>\n",
       "      <td>1.690500</td>\n",
       "      <td>175.000000</td>\n",
       "      <td>5.119800</td>\n",
       "      <td>1007.310000</td>\n",
       "    </tr>\n",
       "    <tr>\n",
       "      <td>25%</td>\n",
       "      <td>7.777778</td>\n",
       "      <td>6.127778</td>\n",
       "      <td>0.550000</td>\n",
       "      <td>6.246800</td>\n",
       "      <td>231.000000</td>\n",
       "      <td>9.982000</td>\n",
       "      <td>1012.910000</td>\n",
       "    </tr>\n",
       "    <tr>\n",
       "      <td>50%</td>\n",
       "      <td>14.877778</td>\n",
       "      <td>14.877778</td>\n",
       "      <td>0.740000</td>\n",
       "      <td>10.255700</td>\n",
       "      <td>290.000000</td>\n",
       "      <td>10.980200</td>\n",
       "      <td>1016.330000</td>\n",
       "    </tr>\n",
       "    <tr>\n",
       "      <td>75%</td>\n",
       "      <td>20.911111</td>\n",
       "      <td>20.911111</td>\n",
       "      <td>0.860000</td>\n",
       "      <td>14.119700</td>\n",
       "      <td>321.000000</td>\n",
       "      <td>15.134000</td>\n",
       "      <td>1020.070000</td>\n",
       "    </tr>\n",
       "    <tr>\n",
       "      <td>max</td>\n",
       "      <td>39.905556</td>\n",
       "      <td>39.344444</td>\n",
       "      <td>1.000000</td>\n",
       "      <td>26.565000</td>\n",
       "      <td>359.000000</td>\n",
       "      <td>16.100000</td>\n",
       "      <td>1034.840000</td>\n",
       "    </tr>\n",
       "  </tbody>\n",
       "</table>\n",
       "</div>"
      ],
      "text/plain": [
       "               temp       apptemp      Humidity    wind_speed  \\\n",
       "count  35312.000000  35312.000000  35312.000000  35312.000000   \n",
       "mean      14.613307     13.884837      0.698451     10.640465   \n",
       "std        8.602470      9.502382      0.197676      5.715497   \n",
       "min       -2.383333     -5.950000      0.130000      1.690500   \n",
       "25%        7.777778      6.127778      0.550000      6.246800   \n",
       "50%       14.877778     14.877778      0.740000     10.255700   \n",
       "75%       20.911111     20.911111      0.860000     14.119700   \n",
       "max       39.905556     39.344444      1.000000     26.565000   \n",
       "\n",
       "       wind_bearing_deg           vis          pres  \n",
       "count      35312.000000  35312.000000  35312.000000  \n",
       "mean         277.136639     11.754459   1016.839472  \n",
       "std           53.906359      2.952981      5.310836  \n",
       "min          175.000000      5.119800   1007.310000  \n",
       "25%          231.000000      9.982000   1012.910000  \n",
       "50%          290.000000     10.980200   1016.330000  \n",
       "75%          321.000000     15.134000   1020.070000  \n",
       "max          359.000000     16.100000   1034.840000  "
      ]
     },
     "execution_count": 45,
     "metadata": {},
     "output_type": "execute_result"
    }
   ],
   "source": [
    "data.describe()"
   ]
  },
  {
   "cell_type": "code",
   "execution_count": 46,
   "metadata": {},
   "outputs": [],
   "source": [
    "Dum=pd.get_dummies(data.loc[:,[\"Summary\",\"month\"]], drop_first=True)"
   ]
  },
  {
   "cell_type": "code",
   "execution_count": 47,
   "metadata": {},
   "outputs": [],
   "source": [
    "data=pd.concat([data,Dum], axis=1)"
   ]
  },
  {
   "cell_type": "code",
   "execution_count": 48,
   "metadata": {},
   "outputs": [
    {
     "data": {
      "text/html": [
       "<div>\n",
       "<style scoped>\n",
       "    .dataframe tbody tr th:only-of-type {\n",
       "        vertical-align: middle;\n",
       "    }\n",
       "\n",
       "    .dataframe tbody tr th {\n",
       "        vertical-align: top;\n",
       "    }\n",
       "\n",
       "    .dataframe thead th {\n",
       "        text-align: right;\n",
       "    }\n",
       "</style>\n",
       "<table border=\"1\" class=\"dataframe\">\n",
       "  <thead>\n",
       "    <tr style=\"text-align: right;\">\n",
       "      <th></th>\n",
       "      <th>Summary</th>\n",
       "      <th>precip_type</th>\n",
       "      <th>temp</th>\n",
       "      <th>apptemp</th>\n",
       "      <th>Humidity</th>\n",
       "      <th>wind_speed</th>\n",
       "      <th>wind_bearing_deg</th>\n",
       "      <th>vis</th>\n",
       "      <th>pres</th>\n",
       "      <th>month</th>\n",
       "      <th>...</th>\n",
       "      <th>month_3</th>\n",
       "      <th>month_4</th>\n",
       "      <th>month_5</th>\n",
       "      <th>month_6</th>\n",
       "      <th>month_7</th>\n",
       "      <th>month_8</th>\n",
       "      <th>month_9</th>\n",
       "      <th>month_10</th>\n",
       "      <th>month_11</th>\n",
       "      <th>month_12</th>\n",
       "    </tr>\n",
       "  </thead>\n",
       "  <tbody>\n",
       "    <tr>\n",
       "      <td>0</td>\n",
       "      <td>Partly Cloudy</td>\n",
       "      <td>rain</td>\n",
       "      <td>9.472222</td>\n",
       "      <td>7.388889</td>\n",
       "      <td>0.89</td>\n",
       "      <td>14.1197</td>\n",
       "      <td>251.0</td>\n",
       "      <td>15.8263</td>\n",
       "      <td>1015.13</td>\n",
       "      <td>3</td>\n",
       "      <td>...</td>\n",
       "      <td>1</td>\n",
       "      <td>0</td>\n",
       "      <td>0</td>\n",
       "      <td>0</td>\n",
       "      <td>0</td>\n",
       "      <td>0</td>\n",
       "      <td>0</td>\n",
       "      <td>0</td>\n",
       "      <td>0</td>\n",
       "      <td>0</td>\n",
       "    </tr>\n",
       "  </tbody>\n",
       "</table>\n",
       "<p>1 rows × 47 columns</p>\n",
       "</div>"
      ],
      "text/plain": [
       "         Summary precip_type      temp   apptemp  Humidity  wind_speed  \\\n",
       "0  Partly Cloudy        rain  9.472222  7.388889      0.89     14.1197   \n",
       "\n",
       "   wind_bearing_deg      vis     pres month  ...  month_3  month_4  month_5  \\\n",
       "0             251.0  15.8263  1015.13     3  ...        1        0        0   \n",
       "\n",
       "   month_6  month_7  month_8  month_9  month_10  month_11  month_12  \n",
       "0        0        0        0        0         0         0         0  \n",
       "\n",
       "[1 rows x 47 columns]"
      ]
     },
     "execution_count": 48,
     "metadata": {},
     "output_type": "execute_result"
    }
   ],
   "source": [
    "data.head(1)"
   ]
  },
  {
   "cell_type": "code",
   "execution_count": 49,
   "metadata": {},
   "outputs": [],
   "source": [
    "data.drop(columns=[\"Summary\",\"month\",\"precip_type\"], inplace=True)"
   ]
  },
  {
   "cell_type": "code",
   "execution_count": 50,
   "metadata": {},
   "outputs": [],
   "source": [
    "from sklearn.model_selection import train_test_split"
   ]
  },
  {
   "cell_type": "code",
   "execution_count": 51,
   "metadata": {},
   "outputs": [
    {
     "data": {
      "text/plain": [
       "Index(['temp', 'apptemp', 'Humidity', 'wind_speed', 'wind_bearing_deg', 'vis',\n",
       "       'pres', 'Summary_Breezy and Dry', 'Summary_Breezy and Foggy',\n",
       "       'Summary_Breezy and Mostly Cloudy', 'Summary_Breezy and Overcast',\n",
       "       'Summary_Breezy and Partly Cloudy', 'Summary_Clear',\n",
       "       'Summary_Dangerously Windy and Partly Cloudy', 'Summary_Drizzle',\n",
       "       'Summary_Dry', 'Summary_Dry and Mostly Cloudy',\n",
       "       'Summary_Dry and Partly Cloudy', 'Summary_Foggy',\n",
       "       'Summary_Humid and Mostly Cloudy', 'Summary_Humid and Overcast',\n",
       "       'Summary_Humid and Partly Cloudy', 'Summary_Light Rain',\n",
       "       'Summary_Mostly Cloudy', 'Summary_Overcast', 'Summary_Partly Cloudy',\n",
       "       'Summary_Rain', 'Summary_Windy', 'Summary_Windy and Dry',\n",
       "       'Summary_Windy and Foggy', 'Summary_Windy and Mostly Cloudy',\n",
       "       'Summary_Windy and Overcast', 'Summary_Windy and Partly Cloudy',\n",
       "       'month_2', 'month_3', 'month_4', 'month_5', 'month_6', 'month_7',\n",
       "       'month_8', 'month_9', 'month_10', 'month_11', 'month_12'],\n",
       "      dtype='object')"
      ]
     },
     "execution_count": 51,
     "metadata": {},
     "output_type": "execute_result"
    }
   ],
   "source": [
    "data.columns"
   ]
  },
  {
   "cell_type": "code",
   "execution_count": 52,
   "metadata": {},
   "outputs": [
    {
     "data": {
      "text/plain": [
       "'X=data.loc[:,[\\'apptemp\\', \\'Humidity\\', \\'wind_speed\\',\\n       \\'wind_bearing_deg\\', \\'vis\\', \\'pres\\', \\'Summary_Breezy and Dry\\',\\n       \\'Summary_Breezy and Foggy\\',\\n       \\'Summary_Breezy and Overcast\\',\\'Summary_Dangerously Windy and Partly Cloudy\\',\\'Summary_Dry\\', \\'Summary_Dry and Mostly Cloudy\\',\\'Summary_Foggy\\',\\n       \\'Summary_Humid and Mostly Cloudy\\', \\'Summary_Humid and Overcast\\',\\n       \\'Summary_Humid and Partly Cloudy\\', \\'Summary_Light Rain\\',\\n       \\'Summary_Mostly Cloudy\\', \\'Summary_Overcast\\', \\'Summary_Partly Cloudy\\',\\n       \\'Summary_Rain\\', \\'Summary_Windy\\', \\'Summary_Windy and Dry\\',\\n       \\'Summary_Windy and Foggy\\', \\'Summary_Windy and Mostly Cloudy\\',\\n       \\'Summary_Windy and Overcast\\', \\'Summary_Windy and Partly Cloudy\\',\\n       \\'month_2\\', \\'month_3\\', \\'month_4\\', \\'month_5\\', \\'month_6\\', \\'month_7\\',\\n       \\'month_8\\', \\'month_9\\', \\'month_10\\', \\'month_11\\', \\'month_12\\']]\\ny=data.loc[:,\"temp\"]'"
      ]
     },
     "execution_count": 52,
     "metadata": {},
     "output_type": "execute_result"
    }
   ],
   "source": [
    "'''X=data.loc[:,['apptemp', 'Humidity', 'wind_speed',\n",
    "       'wind_bearing_deg', 'vis', 'pres', 'Summary_Breezy and Dry',\n",
    "       'Summary_Breezy and Foggy', 'Summary_Breezy and Mostly Cloudy',\n",
    "       'Summary_Breezy and Overcast', 'Summary_Breezy and Partly Cloudy',\n",
    "       'Summary_Clear', 'Summary_Dangerously Windy and Partly Cloudy',\n",
    "       'Summary_Drizzle', 'Summary_Dry', 'Summary_Dry and Mostly Cloudy',\n",
    "       'Summary_Dry and Partly Cloudy', 'Summary_Foggy',\n",
    "       'Summary_Humid and Mostly Cloudy', 'Summary_Humid and Overcast',\n",
    "       'Summary_Humid and Partly Cloudy', 'Summary_Light Rain',\n",
    "       'Summary_Mostly Cloudy', 'Summary_Overcast', 'Summary_Partly Cloudy',\n",
    "       'Summary_Rain', 'Summary_Windy', 'Summary_Windy and Dry',\n",
    "       'Summary_Windy and Foggy',\n",
    "       'Summary_Windy and Overcast', 'Summary_Windy and Partly Cloudy',\n",
    "       'month_2', 'month_3', 'month_4', 'month_5', 'month_6', 'month_7',\n",
    "       'month_8', 'month_9', 'month_10', 'month_11', 'month_12']]\n",
    "y=data.loc[:,\"temp\"]'''\n",
    "'''X=data.loc[:,['apptemp', 'Humidity', 'wind_speed',\n",
    "       'wind_bearing_deg', 'vis', 'pres', 'Summary_Breezy and Dry',\n",
    "       'Summary_Breezy and Foggy', 'Summary_Breezy and Mostly Cloudy',\n",
    "       'Summary_Breezy and Overcast', 'Summary_Breezy and Partly Cloudy','Summary_Dangerously Windy and Partly Cloudy',\n",
    "       'Summary_Drizzle', 'Summary_Dry', 'Summary_Dry and Mostly Cloudy',\n",
    "       'Summary_Dry and Partly Cloudy', 'Summary_Foggy',\n",
    "       'Summary_Humid and Mostly Cloudy', 'Summary_Humid and Overcast',\n",
    "       'Summary_Humid and Partly Cloudy', 'Summary_Light Rain',\n",
    "       'Summary_Mostly Cloudy', 'Summary_Overcast', 'Summary_Partly Cloudy',\n",
    "       'Summary_Rain', 'Summary_Windy', 'Summary_Windy and Dry',\n",
    "       'Summary_Windy and Foggy', 'Summary_Windy and Mostly Cloudy',\n",
    "       'Summary_Windy and Overcast', 'Summary_Windy and Partly Cloudy',\n",
    "       'month_2', 'month_3', 'month_4', 'month_5', 'month_6', 'month_7',\n",
    "       'month_8', 'month_9', 'month_10', 'month_11', 'month_12']]\n",
    "y=data.loc[:,\"temp\"]'''\n",
    "'''X=data.loc[:,['apptemp', 'Humidity', 'wind_speed',\n",
    "       'wind_bearing_deg', 'vis', 'pres', 'Summary_Breezy and Dry',\n",
    "       'Summary_Breezy and Foggy',\n",
    "       'Summary_Breezy and Overcast', 'Summary_Breezy and Partly Cloudy','Summary_Dangerously Windy and Partly Cloudy',\n",
    "       'Summary_Drizzle', 'Summary_Dry', 'Summary_Dry and Mostly Cloudy',\n",
    "       'Summary_Dry and Partly Cloudy', 'Summary_Foggy',\n",
    "       'Summary_Humid and Mostly Cloudy', 'Summary_Humid and Overcast',\n",
    "       'Summary_Humid and Partly Cloudy', 'Summary_Light Rain',\n",
    "       'Summary_Mostly Cloudy', 'Summary_Overcast', 'Summary_Partly Cloudy',\n",
    "       'Summary_Rain', 'Summary_Windy', 'Summary_Windy and Dry',\n",
    "       'Summary_Windy and Foggy', 'Summary_Windy and Mostly Cloudy',\n",
    "       'Summary_Windy and Overcast', 'Summary_Windy and Partly Cloudy',\n",
    "       'month_2', 'month_3', 'month_4', 'month_5', 'month_6', 'month_7',\n",
    "       'month_8', 'month_9', 'month_10', 'month_11', 'month_12']]\n",
    "y=data.loc[:,\"temp\"]'''\n",
    "'''X=data.loc[:,['apptemp', 'Humidity', 'wind_speed',\n",
    "       'wind_bearing_deg', 'vis', 'pres', 'Summary_Breezy and Dry',\n",
    "       'Summary_Breezy and Foggy',\n",
    "       'Summary_Breezy and Overcast', 'Summary_Breezy and Partly Cloudy','Summary_Dangerously Windy and Partly Cloudy','Summary_Dry', 'Summary_Dry and Mostly Cloudy',\n",
    "       'Summary_Dry and Partly Cloudy', 'Summary_Foggy',\n",
    "       'Summary_Humid and Mostly Cloudy', 'Summary_Humid and Overcast',\n",
    "       'Summary_Humid and Partly Cloudy', 'Summary_Light Rain',\n",
    "       'Summary_Mostly Cloudy', 'Summary_Overcast', 'Summary_Partly Cloudy',\n",
    "       'Summary_Rain', 'Summary_Windy', 'Summary_Windy and Dry',\n",
    "       'Summary_Windy and Foggy', 'Summary_Windy and Mostly Cloudy',\n",
    "       'Summary_Windy and Overcast', 'Summary_Windy and Partly Cloudy',\n",
    "       'month_2', 'month_3', 'month_4', 'month_5', 'month_6', 'month_7',\n",
    "       'month_8', 'month_9', 'month_10', 'month_11', 'month_12']]\n",
    "y=data.loc[:,\"temp\"]'''\n",
    "'''X=data.loc[:,['apptemp', 'Humidity', 'wind_speed',\n",
    "       'wind_bearing_deg', 'vis', 'pres', 'Summary_Breezy and Dry',\n",
    "       'Summary_Breezy and Foggy',\n",
    "       'Summary_Breezy and Overcast','Summary_Dangerously Windy and Partly Cloudy','Summary_Dry', 'Summary_Dry and Mostly Cloudy','Summary_Foggy',\n",
    "       'Summary_Humid and Mostly Cloudy', 'Summary_Humid and Overcast',\n",
    "       'Summary_Humid and Partly Cloudy', 'Summary_Light Rain',\n",
    "       'Summary_Mostly Cloudy', 'Summary_Overcast', 'Summary_Partly Cloudy',\n",
    "       'Summary_Rain', 'Summary_Windy', 'Summary_Windy and Dry',\n",
    "       'Summary_Windy and Foggy', 'Summary_Windy and Mostly Cloudy',\n",
    "       'Summary_Windy and Overcast', 'Summary_Windy and Partly Cloudy',\n",
    "       'month_2', 'month_3', 'month_4', 'month_5', 'month_6', 'month_7',\n",
    "       'month_8', 'month_9', 'month_10', 'month_11', 'month_12']]\n",
    "y=data.loc[:,\"temp\"]'''"
   ]
  },
  {
   "cell_type": "code",
   "execution_count": 53,
   "metadata": {
    "scrolled": true
   },
   "outputs": [
    {
     "data": {
      "text/plain": [
       "'X=data.loc[:,[\\'apptemp\\', \\'Humidity\\', \\'wind_speed\\',\\n       \\'wind_bearing_deg\\', \\'vis\\', \\'pres\\', \\'Summary_Breezy and Dry\\',\\n       \\'Summary_Breezy and Foggy\\',\\n       \\'Summary_Breezy and Overcast\\',\\'Summary_Dangerously Windy and Partly Cloudy\\',\\'Summary_Dry\\', \\'Summary_Dry and Mostly Cloudy\\',\\'Summary_Foggy\\',\\n       \\'Summary_Humid and Mostly Cloudy\\', \\'Summary_Humid and Overcast\\',\\'Summary_Overcast\\', \\'Summary_Partly Cloudy\\',\\n       \\'Summary_Rain\\', \\'Summary_Windy\\', \\'Summary_Windy and Dry\\',\\n       \\'Summary_Windy and Foggy\\', \\'Summary_Windy and Mostly Cloudy\\',\\n       \\'Summary_Windy and Overcast\\', \\'Summary_Windy and Partly Cloudy\\',\\n       \\'month_2\\', \\'month_3\\', \\'month_4\\', \\'month_5\\', \\'month_6\\', \\'month_7\\',\\n       \\'month_8\\', \\'month_9\\', \\'month_10\\', \\'month_11\\', \\'month_12\\']]\\ny=data.loc[:,\"temp\"]'"
      ]
     },
     "execution_count": 53,
     "metadata": {},
     "output_type": "execute_result"
    }
   ],
   "source": [
    "'''X=data.loc[:,['apptemp', 'Humidity', 'wind_speed',\n",
    "       'wind_bearing_deg', 'vis', 'pres', 'Summary_Breezy and Dry',\n",
    "       'Summary_Breezy and Foggy',\n",
    "       'Summary_Breezy and Overcast','Summary_Dangerously Windy and Partly Cloudy','Summary_Dry', 'Summary_Dry and Mostly Cloudy','Summary_Foggy',\n",
    "       'Summary_Humid and Mostly Cloudy', 'Summary_Humid and Overcast', 'Summary_Light Rain',\n",
    "       'Summary_Mostly Cloudy', 'Summary_Overcast', 'Summary_Partly Cloudy',\n",
    "       'Summary_Rain', 'Summary_Windy', 'Summary_Windy and Dry',\n",
    "       'Summary_Windy and Foggy', 'Summary_Windy and Mostly Cloudy',\n",
    "       'Summary_Windy and Overcast', 'Summary_Windy and Partly Cloudy',\n",
    "       'month_2', 'month_3', 'month_4', 'month_5', 'month_6', 'month_7',\n",
    "       'month_8', 'month_9', 'month_10', 'month_11', 'month_12']]\n",
    "y=data.loc[:,\"temp\"]'''\n",
    "'''X=data.loc[:,['apptemp', 'Humidity', 'wind_speed',\n",
    "       'wind_bearing_deg', 'vis', 'pres', 'Summary_Breezy and Dry',\n",
    "       'Summary_Breezy and Foggy',\n",
    "       'Summary_Breezy and Overcast','Summary_Dangerously Windy and Partly Cloudy','Summary_Dry', 'Summary_Dry and Mostly Cloudy','Summary_Foggy',\n",
    "       'Summary_Humid and Mostly Cloudy', 'Summary_Humid and Overcast',\n",
    "       'Summary_Mostly Cloudy', 'Summary_Overcast', 'Summary_Partly Cloudy',\n",
    "       'Summary_Rain', 'Summary_Windy', 'Summary_Windy and Dry',\n",
    "       'Summary_Windy and Foggy', 'Summary_Windy and Mostly Cloudy',\n",
    "       'Summary_Windy and Overcast', 'Summary_Windy and Partly Cloudy',\n",
    "       'month_2', 'month_3', 'month_4', 'month_5', 'month_6', 'month_7',\n",
    "       'month_8', 'month_9', 'month_10', 'month_11', 'month_12']]\n",
    "y=data.loc[:,\"temp\"]'''\n",
    "'''X=data.loc[:,['apptemp', 'Humidity', 'wind_speed',\n",
    "       'wind_bearing_deg', 'vis', 'pres', 'Summary_Breezy and Dry',\n",
    "       'Summary_Breezy and Foggy',\n",
    "       'Summary_Breezy and Overcast','Summary_Dangerously Windy and Partly Cloudy','Summary_Dry', 'Summary_Dry and Mostly Cloudy','Summary_Foggy',\n",
    "       'Summary_Humid and Mostly Cloudy', 'Summary_Humid and Overcast','Summary_Overcast', 'Summary_Partly Cloudy',\n",
    "       'Summary_Rain', 'Summary_Windy', 'Summary_Windy and Dry',\n",
    "       'Summary_Windy and Foggy', 'Summary_Windy and Mostly Cloudy',\n",
    "       'Summary_Windy and Overcast', 'Summary_Windy and Partly Cloudy',\n",
    "       'month_2', 'month_3', 'month_4', 'month_5', 'month_6', 'month_7',\n",
    "       'month_8', 'month_9', 'month_10', 'month_11', 'month_12']]\n",
    "y=data.loc[:,\"temp\"]'''"
   ]
  },
  {
   "cell_type": "code",
   "execution_count": 54,
   "metadata": {},
   "outputs": [
    {
     "data": {
      "text/plain": [
       "'X=data.loc[:,[\\'apptemp\\', \\'Humidity\\', \\'wind_speed\\',\\n       \\'wind_bearing_deg\\', \\'vis\\', \\'pres\\', \\'Summary_Breezy and Dry\\',\\n       \\'Summary_Breezy and Foggy\\',\\n       \\'Summary_Breezy and Overcast\\',\\'Summary_Dangerously Windy and Partly Cloudy\\',\\'Summary_Dry\\', \\'Summary_Dry and Mostly Cloudy\\',\\n       \\'Summary_Humid and Mostly Cloudy\\', \\'Summary_Humid and Overcast\\',\\n       \\'Summary_Rain\\', \\'Summary_Windy\\', \\'Summary_Windy and Dry\\',\\n       \\'Summary_Windy and Foggy\\', \\'Summary_Windy and Mostly Cloudy\\',\\n       \\'Summary_Windy and Overcast\\', \\'Summary_Windy and Partly Cloudy\\',\\n       \\'month_2\\', \\'month_3\\', \\'month_4\\', \\'month_5\\', \\'month_6\\', \\'month_7\\',\\n       \\'month_8\\', \\'month_9\\', \\'month_10\\', \\'month_11\\', \\'month_12\\']]\\ny=data.loc[:,\"temp\"]'"
      ]
     },
     "execution_count": 54,
     "metadata": {},
     "output_type": "execute_result"
    }
   ],
   "source": [
    "'''X=data.loc[:,['apptemp', 'Humidity', 'wind_speed',\n",
    "       'wind_bearing_deg', 'vis', 'pres', 'Summary_Breezy and Dry',\n",
    "       'Summary_Breezy and Foggy',\n",
    "       'Summary_Breezy and Overcast','Summary_Dangerously Windy and Partly Cloudy','Summary_Dry', 'Summary_Dry and Mostly Cloudy',\n",
    "       'Summary_Humid and Mostly Cloudy', 'Summary_Humid and Overcast','Summary_Overcast', 'Summary_Partly Cloudy',\n",
    "       'Summary_Rain', 'Summary_Windy', 'Summary_Windy and Dry',\n",
    "       'Summary_Windy and Foggy', 'Summary_Windy and Mostly Cloudy',\n",
    "       'Summary_Windy and Overcast', 'Summary_Windy and Partly Cloudy',\n",
    "       'month_2', 'month_3', 'month_4', 'month_5', 'month_6', 'month_7',\n",
    "       'month_8', 'month_9', 'month_10', 'month_11', 'month_12']]\n",
    "y=data.loc[:,\"temp\"]'''\n",
    "'''X=data.loc[:,['apptemp', 'Humidity', 'wind_speed',\n",
    "       'wind_bearing_deg', 'vis', 'pres', 'Summary_Breezy and Dry',\n",
    "       'Summary_Breezy and Foggy',\n",
    "       'Summary_Breezy and Overcast','Summary_Dangerously Windy and Partly Cloudy','Summary_Dry', 'Summary_Dry and Mostly Cloudy',\n",
    "       'Summary_Humid and Mostly Cloudy', 'Summary_Humid and Overcast','Summary_Partly Cloudy',\n",
    "       'Summary_Rain', 'Summary_Windy', 'Summary_Windy and Dry',\n",
    "       'Summary_Windy and Foggy', 'Summary_Windy and Mostly Cloudy',\n",
    "       'Summary_Windy and Overcast', 'Summary_Windy and Partly Cloudy',\n",
    "       'month_2', 'month_3', 'month_4', 'month_5', 'month_6', 'month_7',\n",
    "       'month_8', 'month_9', 'month_10', 'month_11', 'month_12']]\n",
    "y=data.loc[:,\"temp\"]'''\n",
    "'''X=data.loc[:,['apptemp', 'Humidity', 'wind_speed',\n",
    "       'wind_bearing_deg', 'vis', 'pres', 'Summary_Breezy and Dry',\n",
    "       'Summary_Breezy and Foggy',\n",
    "       'Summary_Breezy and Overcast','Summary_Dangerously Windy and Partly Cloudy','Summary_Dry', 'Summary_Dry and Mostly Cloudy',\n",
    "       'Summary_Humid and Mostly Cloudy', 'Summary_Humid and Overcast',\n",
    "       'Summary_Rain', 'Summary_Windy', 'Summary_Windy and Dry',\n",
    "       'Summary_Windy and Foggy', 'Summary_Windy and Mostly Cloudy',\n",
    "       'Summary_Windy and Overcast', 'Summary_Windy and Partly Cloudy',\n",
    "       'month_2', 'month_3', 'month_4', 'month_5', 'month_6', 'month_7',\n",
    "       'month_8', 'month_9', 'month_10', 'month_11', 'month_12']]\n",
    "y=data.loc[:,\"temp\"]'''"
   ]
  },
  {
   "cell_type": "code",
   "execution_count": 55,
   "metadata": {},
   "outputs": [
    {
     "data": {
      "text/plain": [
       "'X=data.loc[:,[\\'apptemp\\', \\'Humidity\\', \\'wind_speed\\',\\n       \\'wind_bearing_deg\\', \\'vis\\', \\'pres\\', \\'Summary_Breezy and Dry\\',\\n       \\'Summary_Breezy and Foggy\\',\\n       \\'Summary_Breezy and Overcast\\',\\'Summary_Dangerously Windy and Partly Cloudy\\',\\'Summary_Dry\\', \\'Summary_Dry and Mostly Cloudy\\',\\n       \\'Summary_Humid and Mostly Cloudy\\',\\n       \\'Summary_Windy and Overcast\\', \\'Summary_Windy and Partly Cloudy\\',\\n       \\'month_2\\', \\'month_3\\', \\'month_4\\', \\'month_5\\', \\'month_6\\', \\'month_7\\',\\n       \\'month_8\\', \\'month_9\\', \\'month_10\\', \\'month_11\\', \\'month_12\\']]\\ny=data.loc[:,\"temp\"]'"
      ]
     },
     "execution_count": 55,
     "metadata": {},
     "output_type": "execute_result"
    }
   ],
   "source": [
    "'''X=data.loc[:,['apptemp', 'Humidity', 'wind_speed',\n",
    "       'wind_bearing_deg', 'vis', 'pres', 'Summary_Breezy and Dry',\n",
    "       'Summary_Breezy and Foggy',\n",
    "       'Summary_Breezy and Overcast','Summary_Dangerously Windy and Partly Cloudy','Summary_Dry', 'Summary_Dry and Mostly Cloudy',\n",
    "       'Summary_Humid and Mostly Cloudy', 'Summary_Humid and Overcast',\n",
    "       'Summary_Rain', 'Summary_Windy and Dry',\n",
    "       'Summary_Windy and Foggy', 'Summary_Windy and Mostly Cloudy',\n",
    "       'Summary_Windy and Overcast', 'Summary_Windy and Partly Cloudy',\n",
    "       'month_2', 'month_3', 'month_4', 'month_5', 'month_6', 'month_7',\n",
    "       'month_8', 'month_9', 'month_10', 'month_11', 'month_12']]\n",
    "y=data.loc[:,\"temp\"]'''\n",
    "'''X=data.loc[:,['apptemp', 'Humidity', 'wind_speed',\n",
    "       'wind_bearing_deg', 'vis', 'pres', 'Summary_Breezy and Dry',\n",
    "       'Summary_Breezy and Foggy',\n",
    "       'Summary_Breezy and Overcast','Summary_Dangerously Windy and Partly Cloudy','Summary_Dry', 'Summary_Dry and Mostly Cloudy',\n",
    "       'Summary_Humid and Mostly Cloudy', 'Summary_Humid and Overcast',\n",
    "       'Summary_Rain',\n",
    "       'Summary_Windy and Foggy', 'Summary_Windy and Mostly Cloudy',\n",
    "       'Summary_Windy and Overcast', 'Summary_Windy and Partly Cloudy',\n",
    "       'month_2', 'month_3', 'month_4', 'month_5', 'month_6', 'month_7',\n",
    "       'month_8', 'month_9', 'month_10', 'month_11', 'month_12']]\n",
    "y=data.loc[:,\"temp\"]'''\n",
    "'''X=data.loc[:,['apptemp', 'Humidity', 'wind_speed',\n",
    "       'wind_bearing_deg', 'vis', 'pres', 'Summary_Breezy and Dry',\n",
    "       'Summary_Breezy and Foggy',\n",
    "       'Summary_Breezy and Overcast','Summary_Dangerously Windy and Partly Cloudy','Summary_Dry', 'Summary_Dry and Mostly Cloudy',\n",
    "       'Summary_Humid and Mostly Cloudy', 'Summary_Humid and Overcast',\n",
    "       'Summary_Windy and Foggy', 'Summary_Windy and Mostly Cloudy',\n",
    "       'Summary_Windy and Overcast', 'Summary_Windy and Partly Cloudy',\n",
    "       'month_2', 'month_3', 'month_4', 'month_5', 'month_6', 'month_7',\n",
    "       'month_8', 'month_9', 'month_10', 'month_11', 'month_12']]\n",
    "y=data.loc[:,\"temp\"]'''\n",
    "'''X=data.loc[:,['apptemp', 'Humidity', 'wind_speed',\n",
    "       'wind_bearing_deg', 'vis', 'pres', 'Summary_Breezy and Dry',\n",
    "       'Summary_Breezy and Foggy',\n",
    "       'Summary_Breezy and Overcast','Summary_Dangerously Windy and Partly Cloudy','Summary_Dry', 'Summary_Dry and Mostly Cloudy',\n",
    "       'Summary_Humid and Mostly Cloudy', 'Summary_Humid and Overcast', 'Summary_Windy and Mostly Cloudy',\n",
    "       'Summary_Windy and Overcast', 'Summary_Windy and Partly Cloudy',\n",
    "       'month_2', 'month_3', 'month_4', 'month_5', 'month_6', 'month_7',\n",
    "       'month_8', 'month_9', 'month_10', 'month_11', 'month_12']]\n",
    "y=data.loc[:,\"temp\"]'''\n",
    "'''X=data.loc[:,['apptemp', 'Humidity', 'wind_speed',\n",
    "       'wind_bearing_deg', 'vis', 'pres', 'Summary_Breezy and Dry',\n",
    "       'Summary_Breezy and Foggy',\n",
    "       'Summary_Breezy and Overcast','Summary_Dangerously Windy and Partly Cloudy','Summary_Dry', 'Summary_Dry and Mostly Cloudy',\n",
    "       'Summary_Humid and Mostly Cloudy', 'Summary_Humid and Overcast',\n",
    "       'Summary_Windy and Overcast', 'Summary_Windy and Partly Cloudy',\n",
    "       'month_2', 'month_3', 'month_4', 'month_5', 'month_6', 'month_7',\n",
    "       'month_8', 'month_9', 'month_10', 'month_11', 'month_12']]\n",
    "y=data.loc[:,\"temp\"]'''\n",
    "'''X=data.loc[:,['apptemp', 'Humidity', 'wind_speed',\n",
    "       'wind_bearing_deg', 'vis', 'pres', 'Summary_Breezy and Dry',\n",
    "       'Summary_Breezy and Foggy',\n",
    "       'Summary_Breezy and Overcast','Summary_Dangerously Windy and Partly Cloudy','Summary_Dry', 'Summary_Dry and Mostly Cloudy',\n",
    "       'Summary_Humid and Mostly Cloudy',\n",
    "       'Summary_Windy and Overcast', 'Summary_Windy and Partly Cloudy',\n",
    "       'month_2', 'month_3', 'month_4', 'month_5', 'month_6', 'month_7',\n",
    "       'month_8', 'month_9', 'month_10', 'month_11', 'month_12']]\n",
    "y=data.loc[:,\"temp\"]'''"
   ]
  },
  {
   "cell_type": "code",
   "execution_count": 56,
   "metadata": {},
   "outputs": [
    {
     "data": {
      "text/plain": [
       "'X=data.loc[:,[\\'apptemp\\', \\'Humidity\\', \\'wind_speed\\',\\n       \\'wind_bearing_deg\\', \\'vis\\', \\'pres\\', \\'Summary_Breezy and Dry\\',\\n       \\'Summary_Breezy and Foggy\\',\\n       \\'Summary_Breezy and Overcast\\',\\'Summary_Dangerously Windy and Partly Cloudy\\',\\'Summary_Dry\\', \\'Summary_Dry and Mostly Cloudy\\', \\'month_4\\', \\'month_5\\', \\'month_6\\', \\'month_7\\',\\'month_9\\', \\'month_10\\', \\'month_11\\', \\'month_12\\']]\\ny=data.loc[:,\"temp\"]'"
      ]
     },
     "execution_count": 56,
     "metadata": {},
     "output_type": "execute_result"
    }
   ],
   "source": [
    "'''X=data.loc[:,['apptemp', 'Humidity', 'wind_speed',\n",
    "       'wind_bearing_deg', 'vis', 'pres', 'Summary_Breezy and Dry',\n",
    "       'Summary_Breezy and Foggy',\n",
    "       'Summary_Breezy and Overcast','Summary_Dangerously Windy and Partly Cloudy','Summary_Dry', 'Summary_Dry and Mostly Cloudy',\n",
    "       'Summary_Humid and Mostly Cloudy',\n",
    "       'Summary_Windy and Overcast', 'Summary_Windy and Partly Cloudy','month_3', 'month_4', 'month_5', 'month_6', 'month_7',\n",
    "       'month_8', 'month_9', 'month_10', 'month_11', 'month_12']]\n",
    "y=data.loc[:,\"temp\"]'''\n",
    "'''X=data.loc[:,['apptemp', 'Humidity', 'wind_speed',\n",
    "       'wind_bearing_deg', 'vis', 'pres', 'Summary_Breezy and Dry',\n",
    "       'Summary_Breezy and Foggy',\n",
    "       'Summary_Breezy and Overcast','Summary_Dangerously Windy and Partly Cloudy','Summary_Dry', 'Summary_Dry and Mostly Cloudy','month_3', 'month_4', 'month_5', 'month_6', 'month_7','month_9', 'month_10', 'month_11', 'month_12']]\n",
    "y=data.loc[:,\"temp\"]'''\n",
    "'''X=data.loc[:,['apptemp', 'Humidity', 'wind_speed',\n",
    "       'wind_bearing_deg', 'vis', 'pres', 'Summary_Breezy and Dry',\n",
    "       'Summary_Breezy and Foggy',\n",
    "       'Summary_Breezy and Overcast','Summary_Dangerously Windy and Partly Cloudy','Summary_Dry', 'Summary_Dry and Mostly Cloudy', 'month_4', 'month_5', 'month_6', 'month_7','month_9', 'month_10', 'month_11', 'month_12']]\n",
    "y=data.loc[:,\"temp\"]'''"
   ]
  },
  {
   "cell_type": "code",
   "execution_count": 57,
   "metadata": {},
   "outputs": [
    {
     "data": {
      "text/plain": [
       "'X=data.loc[:,[\\'apptemp\\', \\'Humidity\\', \\'wind_speed\\',\\n       \\'wind_bearing_deg\\', \\'vis\\', \\'pres\\']]\\ny=data.loc[:,\"temp\"]'"
      ]
     },
     "execution_count": 57,
     "metadata": {},
     "output_type": "execute_result"
    }
   ],
   "source": [
    "'''X=data.loc[:,['apptemp', 'Humidity', 'wind_speed',\n",
    "       'wind_bearing_deg', 'vis', 'pres', 'Summary_Breezy and Dry',\n",
    "       'Summary_Breezy and Foggy',\n",
    "       'Summary_Breezy and Overcast','Summary_Dangerously Windy and Partly Cloudy','Summary_Dry', 'Summary_Dry and Mostly Cloudy', 'month_4', 'month_5', 'month_6', 'month_7', 'month_10', 'month_11', 'month_12']]\n",
    "y=data.loc[:,\"temp\"]'''\n",
    "'''X=data.loc[:,['apptemp', 'Humidity', 'wind_speed',\n",
    "       'wind_bearing_deg', 'vis', 'pres']]\n",
    "y=data.loc[:,\"temp\"]'''"
   ]
  },
  {
   "cell_type": "code",
   "execution_count": 58,
   "metadata": {},
   "outputs": [
    {
     "data": {
      "text/plain": [
       "'X=data.loc[:,[\\'apptemp\\', \\'Humidity\\', \\'wind_speed\\']]\\ny=data.loc[:,\"temp\"]'"
      ]
     },
     "execution_count": 58,
     "metadata": {},
     "output_type": "execute_result"
    }
   ],
   "source": [
    "'''X=data.loc[:,['apptemp', 'Humidity', 'wind_speed',\n",
    "       'wind_bearing_deg', 'vis']]\n",
    "y=data.loc[:,\"temp\"]'''\n",
    "\"\"\"X=data.loc[:,['apptemp', 'Humidity', 'wind_speed']]\n",
    "y=data.loc[:,\"temp\"]\"\"\""
   ]
  },
  {
   "cell_type": "markdown",
   "metadata": {},
   "source": [
    "# Final Model"
   ]
  },
  {
   "cell_type": "code",
   "execution_count": 59,
   "metadata": {},
   "outputs": [],
   "source": [
    "X=data.loc[:,['apptemp', 'wind_speed', \n",
    "       'month_2', 'month_3', 'month_4', 'month_5', 'month_6', 'month_7',\n",
    "       'month_9', 'month_10', 'month_11', 'month_12']]\n",
    "y=data.loc[:,\"temp\"]"
   ]
  },
  {
   "cell_type": "code",
   "execution_count": 60,
   "metadata": {},
   "outputs": [],
   "source": [
    "X_train, X_test, y_train, y_test = train_test_split(X, y, test_size=0.35, random_state=1429)"
   ]
  },
  {
   "cell_type": "code",
   "execution_count": 61,
   "metadata": {},
   "outputs": [],
   "source": [
    "from sklearn.preprocessing import StandardScaler"
   ]
  },
  {
   "cell_type": "code",
   "execution_count": 62,
   "metadata": {},
   "outputs": [],
   "source": [
    "sc=StandardScaler()"
   ]
  },
  {
   "cell_type": "code",
   "execution_count": 63,
   "metadata": {},
   "outputs": [],
   "source": [
    "\n",
    "X_train_sc=sc.fit_transform(X_train, y_train)\n",
    "X_test_sc=sc.fit_transform(X_test,y_test)"
   ]
  },
  {
   "cell_type": "code",
   "execution_count": 64,
   "metadata": {},
   "outputs": [],
   "source": [
    "from sklearn.linear_model import LinearRegression"
   ]
  },
  {
   "cell_type": "code",
   "execution_count": 65,
   "metadata": {},
   "outputs": [],
   "source": [
    "reg=LinearRegression()"
   ]
  },
  {
   "cell_type": "code",
   "execution_count": 66,
   "metadata": {},
   "outputs": [
    {
     "data": {
      "text/plain": [
       "LinearRegression(copy_X=True, fit_intercept=True, n_jobs=None, normalize=False)"
      ]
     },
     "execution_count": 66,
     "metadata": {},
     "output_type": "execute_result"
    }
   ],
   "source": [
    "reg.fit(X_train_sc,y_train)"
   ]
  },
  {
   "cell_type": "code",
   "execution_count": 67,
   "metadata": {},
   "outputs": [
    {
     "data": {
      "text/plain": [
       "Coef    0.077797\n",
       "Name: month_12, dtype: float64"
      ]
     },
     "execution_count": 67,
     "metadata": {},
     "output_type": "execute_result"
    }
   ],
   "source": [
    "Coefficient=pd.DataFrame(data=reg.coef_, index=X_train.columns, columns=[\"Coef\"])\n",
    "\n",
    "Coefficient.iloc[11,]"
   ]
  },
  {
   "cell_type": "code",
   "execution_count": 68,
   "metadata": {},
   "outputs": [
    {
     "data": {
      "text/html": [
       "<div>\n",
       "<style scoped>\n",
       "    .dataframe tbody tr th:only-of-type {\n",
       "        vertical-align: middle;\n",
       "    }\n",
       "\n",
       "    .dataframe tbody tr th {\n",
       "        vertical-align: top;\n",
       "    }\n",
       "\n",
       "    .dataframe thead th {\n",
       "        text-align: right;\n",
       "    }\n",
       "</style>\n",
       "<table border=\"1\" class=\"dataframe\">\n",
       "  <thead>\n",
       "    <tr style=\"text-align: right;\">\n",
       "      <th></th>\n",
       "      <th>Coef</th>\n",
       "    </tr>\n",
       "  </thead>\n",
       "  <tbody>\n",
       "    <tr>\n",
       "      <td>apptemp</td>\n",
       "      <td>8.627494</td>\n",
       "    </tr>\n",
       "    <tr>\n",
       "      <td>wind_speed</td>\n",
       "      <td>0.395965</td>\n",
       "    </tr>\n",
       "    <tr>\n",
       "      <td>month_2</td>\n",
       "      <td>0.016743</td>\n",
       "    </tr>\n",
       "    <tr>\n",
       "      <td>month_3</td>\n",
       "      <td>-0.074422</td>\n",
       "    </tr>\n",
       "    <tr>\n",
       "      <td>month_4</td>\n",
       "      <td>-0.170375</td>\n",
       "    </tr>\n",
       "    <tr>\n",
       "      <td>month_5</td>\n",
       "      <td>-0.196085</td>\n",
       "    </tr>\n",
       "    <tr>\n",
       "      <td>month_6</td>\n",
       "      <td>-0.128507</td>\n",
       "    </tr>\n",
       "    <tr>\n",
       "      <td>month_7</td>\n",
       "      <td>-0.073916</td>\n",
       "    </tr>\n",
       "    <tr>\n",
       "      <td>month_9</td>\n",
       "      <td>-0.160040</td>\n",
       "    </tr>\n",
       "    <tr>\n",
       "      <td>month_10</td>\n",
       "      <td>-0.149420</td>\n",
       "    </tr>\n",
       "    <tr>\n",
       "      <td>month_11</td>\n",
       "      <td>-0.036578</td>\n",
       "    </tr>\n",
       "    <tr>\n",
       "      <td>month_12</td>\n",
       "      <td>0.077797</td>\n",
       "    </tr>\n",
       "  </tbody>\n",
       "</table>\n",
       "</div>"
      ],
      "text/plain": [
       "                Coef\n",
       "apptemp     8.627494\n",
       "wind_speed  0.395965\n",
       "month_2     0.016743\n",
       "month_3    -0.074422\n",
       "month_4    -0.170375\n",
       "month_5    -0.196085\n",
       "month_6    -0.128507\n",
       "month_7    -0.073916\n",
       "month_9    -0.160040\n",
       "month_10   -0.149420\n",
       "month_11   -0.036578\n",
       "month_12    0.077797"
      ]
     },
     "execution_count": 68,
     "metadata": {},
     "output_type": "execute_result"
    }
   ],
   "source": [
    "Coefficient"
   ]
  },
  {
   "cell_type": "code",
   "execution_count": 69,
   "metadata": {},
   "outputs": [
    {
     "data": {
      "text/plain": [
       "0.9913413640670432"
      ]
     },
     "execution_count": 69,
     "metadata": {},
     "output_type": "execute_result"
    }
   ],
   "source": [
    "Rsq=reg.score(X_train_sc,y_train)\n",
    "Rsq"
   ]
  },
  {
   "cell_type": "code",
   "execution_count": 70,
   "metadata": {},
   "outputs": [],
   "source": [
    "import statsmodels.api as sm"
   ]
  },
  {
   "cell_type": "code",
   "execution_count": 71,
   "metadata": {},
   "outputs": [],
   "source": [
    "X_train_sc=sm.add_constant(X_train_sc)\n",
    "#X_train=sm.add_constant(X_train)"
   ]
  },
  {
   "cell_type": "code",
   "execution_count": 72,
   "metadata": {},
   "outputs": [],
   "source": [
    "REG=sm.OLS(y_train,X_train_sc).fit()"
   ]
  },
  {
   "cell_type": "code",
   "execution_count": 73,
   "metadata": {},
   "outputs": [
    {
     "data": {
      "text/html": [
       "<table class=\"simpletable\">\n",
       "<caption>OLS Regression Results</caption>\n",
       "<tr>\n",
       "  <th>Dep. Variable:</th>          <td>temp</td>       <th>  R-squared:         </th> <td>   0.991</td> \n",
       "</tr>\n",
       "<tr>\n",
       "  <th>Model:</th>                   <td>OLS</td>       <th>  Adj. R-squared:    </th> <td>   0.991</td> \n",
       "</tr>\n",
       "<tr>\n",
       "  <th>Method:</th>             <td>Least Squares</td>  <th>  F-statistic:       </th> <td>2.189e+05</td>\n",
       "</tr>\n",
       "<tr>\n",
       "  <th>Date:</th>             <td>Tue, 01 Oct 2019</td> <th>  Prob (F-statistic):</th>  <td>  0.00</td>  \n",
       "</tr>\n",
       "<tr>\n",
       "  <th>Time:</th>                 <td>17:00:31</td>     <th>  Log-Likelihood:    </th> <td> -27464.</td> \n",
       "</tr>\n",
       "<tr>\n",
       "  <th>No. Observations:</th>      <td> 22952</td>      <th>  AIC:               </th> <td>5.495e+04</td>\n",
       "</tr>\n",
       "<tr>\n",
       "  <th>Df Residuals:</th>          <td> 22939</td>      <th>  BIC:               </th> <td>5.506e+04</td>\n",
       "</tr>\n",
       "<tr>\n",
       "  <th>Df Model:</th>              <td>    12</td>      <th>                     </th>     <td> </td>    \n",
       "</tr>\n",
       "<tr>\n",
       "  <th>Covariance Type:</th>      <td>nonrobust</td>    <th>                     </th>     <td> </td>    \n",
       "</tr>\n",
       "</table>\n",
       "<table class=\"simpletable\">\n",
       "<tr>\n",
       "    <td></td>       <th>coef</th>     <th>std err</th>      <th>t</th>      <th>P>|t|</th>  <th>[0.025</th>    <th>0.975]</th>  \n",
       "</tr>\n",
       "<tr>\n",
       "  <th>const</th> <td>   14.6341</td> <td>    0.005</td> <td> 2768.339</td> <td> 0.000</td> <td>   14.624</td> <td>   14.644</td>\n",
       "</tr>\n",
       "<tr>\n",
       "  <th>x1</th>    <td>    8.6275</td> <td>    0.007</td> <td> 1216.077</td> <td> 0.000</td> <td>    8.614</td> <td>    8.641</td>\n",
       "</tr>\n",
       "<tr>\n",
       "  <th>x2</th>    <td>    0.3960</td> <td>    0.005</td> <td>   74.234</td> <td> 0.000</td> <td>    0.386</td> <td>    0.406</td>\n",
       "</tr>\n",
       "<tr>\n",
       "  <th>x3</th>    <td>    0.0167</td> <td>    0.006</td> <td>    2.669</td> <td> 0.008</td> <td>    0.004</td> <td>    0.029</td>\n",
       "</tr>\n",
       "<tr>\n",
       "  <th>x4</th>    <td>   -0.0744</td> <td>    0.006</td> <td>  -11.460</td> <td> 0.000</td> <td>   -0.087</td> <td>   -0.062</td>\n",
       "</tr>\n",
       "<tr>\n",
       "  <th>x5</th>    <td>   -0.1704</td> <td>    0.006</td> <td>  -27.084</td> <td> 0.000</td> <td>   -0.183</td> <td>   -0.158</td>\n",
       "</tr>\n",
       "<tr>\n",
       "  <th>x6</th>    <td>   -0.1961</td> <td>    0.006</td> <td>  -30.736</td> <td> 0.000</td> <td>   -0.209</td> <td>   -0.184</td>\n",
       "</tr>\n",
       "<tr>\n",
       "  <th>x7</th>    <td>   -0.1285</td> <td>    0.007</td> <td>  -19.559</td> <td> 0.000</td> <td>   -0.141</td> <td>   -0.116</td>\n",
       "</tr>\n",
       "<tr>\n",
       "  <th>x8</th>    <td>   -0.0739</td> <td>    0.007</td> <td>  -11.058</td> <td> 0.000</td> <td>   -0.087</td> <td>   -0.061</td>\n",
       "</tr>\n",
       "<tr>\n",
       "  <th>x9</th>    <td>   -0.1600</td> <td>    0.006</td> <td>  -25.142</td> <td> 0.000</td> <td>   -0.173</td> <td>   -0.148</td>\n",
       "</tr>\n",
       "<tr>\n",
       "  <th>x10</th>   <td>   -0.1494</td> <td>    0.006</td> <td>  -24.217</td> <td> 0.000</td> <td>   -0.162</td> <td>   -0.137</td>\n",
       "</tr>\n",
       "<tr>\n",
       "  <th>x11</th>   <td>   -0.0366</td> <td>    0.006</td> <td>   -5.970</td> <td> 0.000</td> <td>   -0.049</td> <td>   -0.025</td>\n",
       "</tr>\n",
       "<tr>\n",
       "  <th>x12</th>   <td>    0.0778</td> <td>    0.006</td> <td>   12.388</td> <td> 0.000</td> <td>    0.065</td> <td>    0.090</td>\n",
       "</tr>\n",
       "</table>\n",
       "<table class=\"simpletable\">\n",
       "<tr>\n",
       "  <th>Omnibus:</th>       <td>270.117</td> <th>  Durbin-Watson:     </th> <td>   2.008</td>\n",
       "</tr>\n",
       "<tr>\n",
       "  <th>Prob(Omnibus):</th> <td> 0.000</td>  <th>  Jarque-Bera (JB):  </th> <td> 328.054</td>\n",
       "</tr>\n",
       "<tr>\n",
       "  <th>Skew:</th>          <td> 0.199</td>  <th>  Prob(JB):          </th> <td>5.81e-72</td>\n",
       "</tr>\n",
       "<tr>\n",
       "  <th>Kurtosis:</th>      <td> 3.430</td>  <th>  Cond. No.          </th> <td>    3.12</td>\n",
       "</tr>\n",
       "</table><br/><br/>Warnings:<br/>[1] Standard Errors assume that the covariance matrix of the errors is correctly specified."
      ],
      "text/plain": [
       "<class 'statsmodels.iolib.summary.Summary'>\n",
       "\"\"\"\n",
       "                            OLS Regression Results                            \n",
       "==============================================================================\n",
       "Dep. Variable:                   temp   R-squared:                       0.991\n",
       "Model:                            OLS   Adj. R-squared:                  0.991\n",
       "Method:                 Least Squares   F-statistic:                 2.189e+05\n",
       "Date:                Tue, 01 Oct 2019   Prob (F-statistic):               0.00\n",
       "Time:                        17:00:31   Log-Likelihood:                -27464.\n",
       "No. Observations:               22952   AIC:                         5.495e+04\n",
       "Df Residuals:                   22939   BIC:                         5.506e+04\n",
       "Df Model:                          12                                         \n",
       "Covariance Type:            nonrobust                                         \n",
       "==============================================================================\n",
       "                 coef    std err          t      P>|t|      [0.025      0.975]\n",
       "------------------------------------------------------------------------------\n",
       "const         14.6341      0.005   2768.339      0.000      14.624      14.644\n",
       "x1             8.6275      0.007   1216.077      0.000       8.614       8.641\n",
       "x2             0.3960      0.005     74.234      0.000       0.386       0.406\n",
       "x3             0.0167      0.006      2.669      0.008       0.004       0.029\n",
       "x4            -0.0744      0.006    -11.460      0.000      -0.087      -0.062\n",
       "x5            -0.1704      0.006    -27.084      0.000      -0.183      -0.158\n",
       "x6            -0.1961      0.006    -30.736      0.000      -0.209      -0.184\n",
       "x7            -0.1285      0.007    -19.559      0.000      -0.141      -0.116\n",
       "x8            -0.0739      0.007    -11.058      0.000      -0.087      -0.061\n",
       "x9            -0.1600      0.006    -25.142      0.000      -0.173      -0.148\n",
       "x10           -0.1494      0.006    -24.217      0.000      -0.162      -0.137\n",
       "x11           -0.0366      0.006     -5.970      0.000      -0.049      -0.025\n",
       "x12            0.0778      0.006     12.388      0.000       0.065       0.090\n",
       "==============================================================================\n",
       "Omnibus:                      270.117   Durbin-Watson:                   2.008\n",
       "Prob(Omnibus):                  0.000   Jarque-Bera (JB):              328.054\n",
       "Skew:                           0.199   Prob(JB):                     5.81e-72\n",
       "Kurtosis:                       3.430   Cond. No.                         3.12\n",
       "==============================================================================\n",
       "\n",
       "Warnings:\n",
       "[1] Standard Errors assume that the covariance matrix of the errors is correctly specified.\n",
       "\"\"\""
      ]
     },
     "execution_count": 73,
     "metadata": {},
     "output_type": "execute_result"
    }
   ],
   "source": [
    "REG.summary()"
   ]
  },
  {
   "cell_type": "code",
   "execution_count": 74,
   "metadata": {},
   "outputs": [],
   "source": [
    "from statsmodels.stats.outliers_influence import variance_inflation_factor"
   ]
  },
  {
   "cell_type": "code",
   "execution_count": 75,
   "metadata": {},
   "outputs": [
    {
     "data": {
      "text/html": [
       "<div>\n",
       "<style scoped>\n",
       "    .dataframe tbody tr th:only-of-type {\n",
       "        vertical-align: middle;\n",
       "    }\n",
       "\n",
       "    .dataframe tbody tr th {\n",
       "        vertical-align: top;\n",
       "    }\n",
       "\n",
       "    .dataframe thead th {\n",
       "        text-align: right;\n",
       "    }\n",
       "</style>\n",
       "<table border=\"1\" class=\"dataframe\">\n",
       "  <thead>\n",
       "    <tr style=\"text-align: right;\">\n",
       "      <th></th>\n",
       "      <th>VIF Factor</th>\n",
       "      <th>features</th>\n",
       "    </tr>\n",
       "  </thead>\n",
       "  <tbody>\n",
       "    <tr>\n",
       "      <td>0</td>\n",
       "      <td>3.899122</td>\n",
       "      <td>apptemp</td>\n",
       "    </tr>\n",
       "    <tr>\n",
       "      <td>1</td>\n",
       "      <td>3.621932</td>\n",
       "      <td>wind_speed</td>\n",
       "    </tr>\n",
       "    <tr>\n",
       "      <td>2</td>\n",
       "      <td>1.148046</td>\n",
       "      <td>month_2</td>\n",
       "    </tr>\n",
       "    <tr>\n",
       "      <td>3</td>\n",
       "      <td>1.220229</td>\n",
       "      <td>month_3</td>\n",
       "    </tr>\n",
       "    <tr>\n",
       "      <td>4</td>\n",
       "      <td>1.252422</td>\n",
       "      <td>month_4</td>\n",
       "    </tr>\n",
       "    <tr>\n",
       "      <td>5</td>\n",
       "      <td>1.386824</td>\n",
       "      <td>month_5</td>\n",
       "    </tr>\n",
       "    <tr>\n",
       "      <td>6</td>\n",
       "      <td>1.566729</td>\n",
       "      <td>month_6</td>\n",
       "    </tr>\n",
       "    <tr>\n",
       "      <td>7</td>\n",
       "      <td>1.693784</td>\n",
       "      <td>month_7</td>\n",
       "    </tr>\n",
       "    <tr>\n",
       "      <td>8</td>\n",
       "      <td>1.375372</td>\n",
       "      <td>month_9</td>\n",
       "    </tr>\n",
       "    <tr>\n",
       "      <td>9</td>\n",
       "      <td>1.184372</td>\n",
       "      <td>month_10</td>\n",
       "    </tr>\n",
       "    <tr>\n",
       "      <td>10</td>\n",
       "      <td>1.140476</td>\n",
       "      <td>month_11</td>\n",
       "    </tr>\n",
       "    <tr>\n",
       "      <td>11</td>\n",
       "      <td>1.154572</td>\n",
       "      <td>month_12</td>\n",
       "    </tr>\n",
       "  </tbody>\n",
       "</table>\n",
       "</div>"
      ],
      "text/plain": [
       "    VIF Factor    features\n",
       "0     3.899122     apptemp\n",
       "1     3.621932  wind_speed\n",
       "2     1.148046     month_2\n",
       "3     1.220229     month_3\n",
       "4     1.252422     month_4\n",
       "5     1.386824     month_5\n",
       "6     1.566729     month_6\n",
       "7     1.693784     month_7\n",
       "8     1.375372     month_9\n",
       "9     1.184372    month_10\n",
       "10    1.140476    month_11\n",
       "11    1.154572    month_12"
      ]
     },
     "execution_count": 75,
     "metadata": {},
     "output_type": "execute_result"
    }
   ],
   "source": [
    "vif = pd.DataFrame()\n",
    "vif[\"VIF Factor\"] = [variance_inflation_factor(X.values, i) for i in range(X.shape[1])]\n",
    "vif[\"features\"] = X.columns\n",
    "vif"
   ]
  },
  {
   "cell_type": "code",
   "execution_count": 76,
   "metadata": {},
   "outputs": [],
   "source": [
    "pred=reg.predict(X_test_sc)"
   ]
  },
  {
   "cell_type": "code",
   "execution_count": 77,
   "metadata": {},
   "outputs": [
    {
     "data": {
      "text/plain": [
       "inf"
      ]
     },
     "execution_count": 77,
     "metadata": {},
     "output_type": "execute_result"
    }
   ],
   "source": [
    "np.mean(abs(y_test-pred)/y_test)"
   ]
  },
  {
   "cell_type": "code",
   "execution_count": 78,
   "metadata": {},
   "outputs": [],
   "source": [
    "from sklearn.metrics import mean_squared_error"
   ]
  },
  {
   "cell_type": "code",
   "execution_count": 79,
   "metadata": {},
   "outputs": [
    {
     "data": {
      "text/plain": [
       "0.8094426157636937"
      ]
     },
     "execution_count": 79,
     "metadata": {},
     "output_type": "execute_result"
    }
   ],
   "source": [
    "np.sqrt(mean_squared_error(y_test, pred))"
   ]
  },
  {
   "cell_type": "code",
   "execution_count": 94,
   "metadata": {},
   "outputs": [
    {
     "data": {
      "text/plain": [
       "Text(0, 0.5, 'Predicted Temp')"
      ]
     },
     "execution_count": 94,
     "metadata": {},
     "output_type": "execute_result"
    },
    {
     "data": {
      "image/png": "[encoded data removed]",
      "text/plain": [
       "<Figure size 432x288 with 1 Axes>"
      ]
     },
     "metadata": {
      "needs_background": "light"
     },
     "output_type": "display_data"
    }
   ],
   "source": [
    "sns.scatterplot(y_test, pred)\n",
    "plt.xlabel('Actual Temp')\n",
    "plt.ylabel('Predicted Temp')"
   ]
  },
  {
   "cell_type": "code",
   "execution_count": null,
   "metadata": {},
   "outputs": [],
   "source": []
  },
  {
   "cell_type": "code",
   "execution_count": null,
   "metadata": {},
   "outputs": [],
   "source": []
  },
  {
   "cell_type": "code",
   "execution_count": null,
   "metadata": {},
   "outputs": [],
   "source": []
  },
  {
   "cell_type": "code",
   "execution_count": null,
   "metadata": {},
   "outputs": [],
   "source": []
  },
  {
   "cell_type": "code",
   "execution_count": null,
   "metadata": {},
   "outputs": [],
   "source": []
  },
  {
   "cell_type": "code",
   "execution_count": null,
   "metadata": {},
   "outputs": [],
   "source": []
  },
  {
   "cell_type": "code",
   "execution_count": null,
   "metadata": {},
   "outputs": [],
   "source": []
  }
 ],
 "metadata": {
  "kernelspec": {
   "display_name": "Python 3",
   "language": "python",
   "name": "python3"
  },
  "language_info": {
   "codemirror_mode": {
    "name": "ipython",
    "version": 3
   },
   "file_extension": ".py",
   "mimetype": "text/x-python",
   "name": "python",
   "nbconvert_exporter": "python",
   "pygments_lexer": "ipython3",
   "version": "3.7.4"
  }
 },
 "nbformat": 4,
 "nbformat_minor": 2
}
